{
  "nbformat": 4,
  "nbformat_minor": 0,
  "metadata": {
    "colab": {
      "name": "Car_Brand_Classification_ResNet50_Transfer_Learning.ipynb",
      "provenance": [],
      "collapsed_sections": []
    },
    "kernelspec": {
      "name": "python3",
      "display_name": "Python 3"
    },
    "language_info": {
      "name": "python"
    }
  },
  "cells": [
    {
      "cell_type": "code",
      "metadata": {
        "id": "CuuXPe5KmnCv"
      },
      "source": [
        "# import all the required libraries\n",
        "\n",
        "import numpy as np\n",
        "import pandas as pd\n",
        "import matplotlib.pyplot as plt\n",
        "from glob import glob\n",
        "from tensorflow.keras.layers import Input, Lambda, Dense, Flatten\n",
        "from tensorflow.keras.models import Model\n",
        "from tensorflow.keras.applications.resnet50 import ResNet50, preprocess_input\n",
        "# from keras.applications.vgg16 import VGG16\n",
        "from tensorflow.keras.preprocessing import image\n",
        "from tensorflow.keras.preprocessing.image import ImageDataGenerator, load_img\n",
        "from tensorflow.keras.models import Sequential"
      ],
      "execution_count": null,
      "outputs": []
    },
    {
      "cell_type": "code",
      "metadata": {
        "colab": {
          "base_uri": "https://localhost:8080/"
        },
        "id": "naIDjKzLbpn3",
        "outputId": "dc7774f4-dc5f-45e2-d82f-b7368466dbbd"
      },
      "source": [
        "!unzip Datasets.zip -d Datasets"
      ],
      "execution_count": 113,
      "outputs": [
        {
          "output_type": "stream",
          "text": [
            "Archive:  Datasets.zip\n",
            "   creating: Datasets/Datasets/Test/\n",
            "   creating: Datasets/Datasets/Test/audi/\n",
            "  inflating: Datasets/Datasets/Test/audi/21.jpg  \n",
            "  inflating: Datasets/Datasets/Test/audi/22.jpg  \n",
            "  inflating: Datasets/Datasets/Test/audi/23.jpg  \n",
            "  inflating: Datasets/Datasets/Test/audi/24.jpg  \n",
            "  inflating: Datasets/Datasets/Test/audi/25.jpg  \n",
            "  inflating: Datasets/Datasets/Test/audi/26.jpg  \n",
            "  inflating: Datasets/Datasets/Test/audi/27.jpg  \n",
            " extracting: Datasets/Datasets/Test/audi/28.jpg  \n",
            "  inflating: Datasets/Datasets/Test/audi/29.jpg  \n",
            "   creating: Datasets/Datasets/Test/lamborghini/\n",
            "  inflating: Datasets/Datasets/Test/lamborghini/1.jpg  \n",
            "  inflating: Datasets/Datasets/Test/lamborghini/10.jpg  \n",
            "  inflating: Datasets/Datasets/Test/lamborghini/11.jpg  \n",
            "  inflating: Datasets/Datasets/Test/lamborghini/12.jpg  \n",
            "  inflating: Datasets/Datasets/Test/lamborghini/13.jpg  \n",
            "  inflating: Datasets/Datasets/Test/lamborghini/14.jpg  \n",
            "  inflating: Datasets/Datasets/Test/lamborghini/15.jpg  \n",
            "  inflating: Datasets/Datasets/Test/lamborghini/16.jpg  \n",
            "  inflating: Datasets/Datasets/Test/lamborghini/17.jpg  \n",
            "  inflating: Datasets/Datasets/Test/lamborghini/18.jpg  \n",
            "  inflating: Datasets/Datasets/Test/lamborghini/19.jpg  \n",
            "  inflating: Datasets/Datasets/Test/lamborghini/2.jpg  \n",
            "  inflating: Datasets/Datasets/Test/lamborghini/20.jog.jpg  \n",
            "  inflating: Datasets/Datasets/Test/lamborghini/21.jpg  \n",
            "  inflating: Datasets/Datasets/Test/lamborghini/22.jpg  \n",
            "  inflating: Datasets/Datasets/Test/lamborghini/23.jpg  \n",
            "  inflating: Datasets/Datasets/Test/lamborghini/24.jpg  \n",
            "  inflating: Datasets/Datasets/Test/lamborghini/25.jpg  \n",
            "  inflating: Datasets/Datasets/Test/lamborghini/26.jpg  \n",
            "  inflating: Datasets/Datasets/Test/lamborghini/27.jpg  \n",
            "  inflating: Datasets/Datasets/Test/lamborghini/28.jpg  \n",
            "  inflating: Datasets/Datasets/Test/lamborghini/29.jpg  \n",
            "  inflating: Datasets/Datasets/Test/lamborghini/3.jpg  \n",
            "  inflating: Datasets/Datasets/Test/lamborghini/30.jpg  \n",
            "  inflating: Datasets/Datasets/Test/lamborghini/4.jpg  \n",
            "  inflating: Datasets/Datasets/Test/lamborghini/5.jpg  \n",
            "  inflating: Datasets/Datasets/Test/lamborghini/6.jpg  \n",
            "  inflating: Datasets/Datasets/Test/lamborghini/7.jpg  \n",
            "  inflating: Datasets/Datasets/Test/lamborghini/8.jpg  \n",
            "  inflating: Datasets/Datasets/Test/lamborghini/9.jpg  \n",
            "   creating: Datasets/Datasets/Test/mercedes/\n",
            "  inflating: Datasets/Datasets/Test/mercedes/27.jpg  \n",
            "  inflating: Datasets/Datasets/Test/mercedes/28.jpg  \n",
            "  inflating: Datasets/Datasets/Test/mercedes/29.jpg  \n",
            "  inflating: Datasets/Datasets/Test/mercedes/30.jpg  \n",
            "  inflating: Datasets/Datasets/Test/mercedes/31.jpg  \n",
            "  inflating: Datasets/Datasets/Test/mercedes/32.jpg  \n",
            "  inflating: Datasets/Datasets/Test/mercedes/33.jpg  \n",
            "  inflating: Datasets/Datasets/Test/mercedes/34.jpg  \n",
            "  inflating: Datasets/Datasets/Test/mercedes/35.jpg  \n",
            "  inflating: Datasets/Datasets/Test/mercedes/36.jpg  \n",
            "  inflating: Datasets/Datasets/Test/mercedes/37.jpg  \n",
            "  inflating: Datasets/Datasets/Test/mercedes/38.jpg  \n",
            "  inflating: Datasets/Datasets/Test/mercedes/39.jpg  \n",
            "  inflating: Datasets/Datasets/Test/mercedes/40.jpg  \n",
            "  inflating: Datasets/Datasets/Test/mercedes/41.jpg  \n",
            "  inflating: Datasets/Datasets/Test/mercedes/42.jpg  \n",
            "  inflating: Datasets/Datasets/Test/mercedes/43.jpg  \n",
            "  inflating: Datasets/Datasets/Test/mercedes/44.jpg  \n",
            "  inflating: Datasets/Datasets/Test/mercedes/45.jpg  \n",
            "   creating: Datasets/Datasets/Train/\n",
            "   creating: Datasets/Datasets/Train/audi/\n",
            "  inflating: Datasets/Datasets/Train/audi/1.jpg  \n",
            "  inflating: Datasets/Datasets/Train/audi/10.jpg  \n",
            "  inflating: Datasets/Datasets/Train/audi/11.jpg  \n",
            "  inflating: Datasets/Datasets/Train/audi/12.jpg  \n",
            "  inflating: Datasets/Datasets/Train/audi/13.jpg  \n",
            "  inflating: Datasets/Datasets/Train/audi/14.jpg  \n",
            "  inflating: Datasets/Datasets/Train/audi/15.jpg  \n",
            "  inflating: Datasets/Datasets/Train/audi/16.jpg  \n",
            "  inflating: Datasets/Datasets/Train/audi/17.jpg  \n",
            "  inflating: Datasets/Datasets/Train/audi/18.jpg  \n",
            "  inflating: Datasets/Datasets/Train/audi/19.jpg  \n",
            "  inflating: Datasets/Datasets/Train/audi/2.jpg  \n",
            "  inflating: Datasets/Datasets/Train/audi/20.jpg  \n",
            "  inflating: Datasets/Datasets/Train/audi/3.jpg  \n",
            "  inflating: Datasets/Datasets/Train/audi/4.jpg  \n",
            "  inflating: Datasets/Datasets/Train/audi/5.jpg  \n",
            "  inflating: Datasets/Datasets/Train/audi/6.jpg  \n",
            "  inflating: Datasets/Datasets/Train/audi/7.jpg  \n",
            "  inflating: Datasets/Datasets/Train/audi/8.jpg  \n",
            "  inflating: Datasets/Datasets/Train/audi/9.jpg  \n",
            "   creating: Datasets/Datasets/Train/lamborghini/\n",
            "  inflating: Datasets/Datasets/Train/lamborghini/1.jpg  \n",
            "  inflating: Datasets/Datasets/Train/lamborghini/10.jpg  \n",
            "  inflating: Datasets/Datasets/Train/lamborghini/11.jpg  \n",
            "  inflating: Datasets/Datasets/Train/lamborghini/12.jpg  \n",
            "  inflating: Datasets/Datasets/Train/lamborghini/13.jpg  \n",
            "  inflating: Datasets/Datasets/Train/lamborghini/14.jpg  \n",
            "  inflating: Datasets/Datasets/Train/lamborghini/15.jpg  \n",
            "  inflating: Datasets/Datasets/Train/lamborghini/16.jpg  \n",
            "  inflating: Datasets/Datasets/Train/lamborghini/17.jpg  \n",
            "  inflating: Datasets/Datasets/Train/lamborghini/18.jpg  \n",
            "  inflating: Datasets/Datasets/Train/lamborghini/19.jpg  \n",
            "  inflating: Datasets/Datasets/Train/lamborghini/2.jpg  \n",
            "  inflating: Datasets/Datasets/Train/lamborghini/3.jpg  \n",
            "  inflating: Datasets/Datasets/Train/lamborghini/4.jpg  \n",
            "  inflating: Datasets/Datasets/Train/lamborghini/5.jpg  \n",
            "  inflating: Datasets/Datasets/Train/lamborghini/6.jpg  \n",
            "  inflating: Datasets/Datasets/Train/lamborghini/7.jpg  \n",
            "  inflating: Datasets/Datasets/Train/lamborghini/8.jpg  \n",
            "  inflating: Datasets/Datasets/Train/lamborghini/9.jpg  \n",
            "   creating: Datasets/Datasets/Train/mercedes/\n",
            "  inflating: Datasets/Datasets/Train/mercedes/1.jpg  \n",
            "  inflating: Datasets/Datasets/Train/mercedes/10.jpg  \n",
            "  inflating: Datasets/Datasets/Train/mercedes/11.jpg  \n",
            "  inflating: Datasets/Datasets/Train/mercedes/12.jpg  \n",
            "  inflating: Datasets/Datasets/Train/mercedes/13.jpg  \n",
            "  inflating: Datasets/Datasets/Train/mercedes/14.jpg  \n",
            "  inflating: Datasets/Datasets/Train/mercedes/15.jpg  \n",
            "  inflating: Datasets/Datasets/Train/mercedes/16.jpg  \n",
            "  inflating: Datasets/Datasets/Train/mercedes/17.jpg  \n",
            "  inflating: Datasets/Datasets/Train/mercedes/18.jpg  \n",
            "  inflating: Datasets/Datasets/Train/mercedes/19.jpg  \n",
            "  inflating: Datasets/Datasets/Train/mercedes/2.jpg  \n",
            "  inflating: Datasets/Datasets/Train/mercedes/20.jpg  \n",
            "  inflating: Datasets/Datasets/Train/mercedes/21.jpg  \n",
            "  inflating: Datasets/Datasets/Train/mercedes/22.jpg  \n",
            "  inflating: Datasets/Datasets/Train/mercedes/23.jpg  \n",
            "  inflating: Datasets/Datasets/Train/mercedes/24.jpg  \n",
            "  inflating: Datasets/Datasets/Train/mercedes/25.jpg  \n",
            " extracting: Datasets/Datasets/Train/mercedes/3.jpg  \n",
            " extracting: Datasets/Datasets/Train/mercedes/4.jpg  \n",
            "  inflating: Datasets/Datasets/Train/mercedes/5.jpg  \n",
            "  inflating: Datasets/Datasets/Train/mercedes/6.jpg  \n",
            "  inflating: Datasets/Datasets/Train/mercedes/7.jpg  \n",
            "  inflating: Datasets/Datasets/Train/mercedes/8.jpf.jpg  \n",
            "  inflating: Datasets/Datasets/Train/mercedes/9.jpg  \n"
          ],
          "name": "stdout"
        }
      ]
    },
    {
      "cell_type": "code",
      "metadata": {
        "id": "Cgg4qIXzq0qO"
      },
      "source": [
        "Image_Size = [224, 224]        # resizing all the image & ( SOTA(State of the art) - takes input as (224, 224))\n",
        "train_path =  \"/content/Train\"\n",
        "test_path = \"/content/Test\""
      ],
      "execution_count": null,
      "outputs": []
    },
    {
      "cell_type": "markdown",
      "metadata": {
        "id": "Mr1FBmQkz9tF"
      },
      "source": [
        " ***\"input_shape= Image_Size + [3]\". Why \" + [3]\"?***\n",
        "\n",
        "It means that the images that we provide to ResNet50, \n",
        "is basically have three channels(R-Red, G-Green, B-Blue).\n",
        "\n",
        " ***\"include_top= False\" Why?***\n",
        "\n",
        "In SOTA of ResNet50 is basically have 1000 categories. But here we use only 3 categories for classification. So, we don't have to include the first and the last."
      ]
    },
    {
      "cell_type": "code",
      "metadata": {
        "id": "jD0jyRG1q2BB"
      },
      "source": [
        "# using the imagenet weights\n",
        "\n",
        "resnet = ResNet50(input_shape= Image_Size + [3], weights= \"imagenet\", include_top= False)"
      ],
      "execution_count": null,
      "outputs": []
    },
    {
      "cell_type": "code",
      "metadata": {
        "id": "m-EqZiEO1Jma",
        "colab": {
          "base_uri": "https://localhost:8080/"
        },
        "outputId": "b0c88abc-1d01-4378-bded-a8c0db746750"
      },
      "source": [
        "## Model summary\n",
        "resnet.summary()"
      ],
      "execution_count": null,
      "outputs": [
        {
          "output_type": "stream",
          "text": [
            "Model: \"resnet50\"\n",
            "__________________________________________________________________________________________________\n",
            "Layer (type)                    Output Shape         Param #     Connected to                     \n",
            "==================================================================================================\n",
            "input_2 (InputLayer)            [(None, 224, 224, 3) 0                                            \n",
            "__________________________________________________________________________________________________\n",
            "conv1_pad (ZeroPadding2D)       (None, 230, 230, 3)  0           input_2[0][0]                    \n",
            "__________________________________________________________________________________________________\n",
            "conv1_conv (Conv2D)             (None, 112, 112, 64) 9472        conv1_pad[0][0]                  \n",
            "__________________________________________________________________________________________________\n",
            "conv1_bn (BatchNormalization)   (None, 112, 112, 64) 256         conv1_conv[0][0]                 \n",
            "__________________________________________________________________________________________________\n",
            "conv1_relu (Activation)         (None, 112, 112, 64) 0           conv1_bn[0][0]                   \n",
            "__________________________________________________________________________________________________\n",
            "pool1_pad (ZeroPadding2D)       (None, 114, 114, 64) 0           conv1_relu[0][0]                 \n",
            "__________________________________________________________________________________________________\n",
            "pool1_pool (MaxPooling2D)       (None, 56, 56, 64)   0           pool1_pad[0][0]                  \n",
            "__________________________________________________________________________________________________\n",
            "conv2_block1_1_conv (Conv2D)    (None, 56, 56, 64)   4160        pool1_pool[0][0]                 \n",
            "__________________________________________________________________________________________________\n",
            "conv2_block1_1_bn (BatchNormali (None, 56, 56, 64)   256         conv2_block1_1_conv[0][0]        \n",
            "__________________________________________________________________________________________________\n",
            "conv2_block1_1_relu (Activation (None, 56, 56, 64)   0           conv2_block1_1_bn[0][0]          \n",
            "__________________________________________________________________________________________________\n",
            "conv2_block1_2_conv (Conv2D)    (None, 56, 56, 64)   36928       conv2_block1_1_relu[0][0]        \n",
            "__________________________________________________________________________________________________\n",
            "conv2_block1_2_bn (BatchNormali (None, 56, 56, 64)   256         conv2_block1_2_conv[0][0]        \n",
            "__________________________________________________________________________________________________\n",
            "conv2_block1_2_relu (Activation (None, 56, 56, 64)   0           conv2_block1_2_bn[0][0]          \n",
            "__________________________________________________________________________________________________\n",
            "conv2_block1_0_conv (Conv2D)    (None, 56, 56, 256)  16640       pool1_pool[0][0]                 \n",
            "__________________________________________________________________________________________________\n",
            "conv2_block1_3_conv (Conv2D)    (None, 56, 56, 256)  16640       conv2_block1_2_relu[0][0]        \n",
            "__________________________________________________________________________________________________\n",
            "conv2_block1_0_bn (BatchNormali (None, 56, 56, 256)  1024        conv2_block1_0_conv[0][0]        \n",
            "__________________________________________________________________________________________________\n",
            "conv2_block1_3_bn (BatchNormali (None, 56, 56, 256)  1024        conv2_block1_3_conv[0][0]        \n",
            "__________________________________________________________________________________________________\n",
            "conv2_block1_add (Add)          (None, 56, 56, 256)  0           conv2_block1_0_bn[0][0]          \n",
            "                                                                 conv2_block1_3_bn[0][0]          \n",
            "__________________________________________________________________________________________________\n",
            "conv2_block1_out (Activation)   (None, 56, 56, 256)  0           conv2_block1_add[0][0]           \n",
            "__________________________________________________________________________________________________\n",
            "conv2_block2_1_conv (Conv2D)    (None, 56, 56, 64)   16448       conv2_block1_out[0][0]           \n",
            "__________________________________________________________________________________________________\n",
            "conv2_block2_1_bn (BatchNormali (None, 56, 56, 64)   256         conv2_block2_1_conv[0][0]        \n",
            "__________________________________________________________________________________________________\n",
            "conv2_block2_1_relu (Activation (None, 56, 56, 64)   0           conv2_block2_1_bn[0][0]          \n",
            "__________________________________________________________________________________________________\n",
            "conv2_block2_2_conv (Conv2D)    (None, 56, 56, 64)   36928       conv2_block2_1_relu[0][0]        \n",
            "__________________________________________________________________________________________________\n",
            "conv2_block2_2_bn (BatchNormali (None, 56, 56, 64)   256         conv2_block2_2_conv[0][0]        \n",
            "__________________________________________________________________________________________________\n",
            "conv2_block2_2_relu (Activation (None, 56, 56, 64)   0           conv2_block2_2_bn[0][0]          \n",
            "__________________________________________________________________________________________________\n",
            "conv2_block2_3_conv (Conv2D)    (None, 56, 56, 256)  16640       conv2_block2_2_relu[0][0]        \n",
            "__________________________________________________________________________________________________\n",
            "conv2_block2_3_bn (BatchNormali (None, 56, 56, 256)  1024        conv2_block2_3_conv[0][0]        \n",
            "__________________________________________________________________________________________________\n",
            "conv2_block2_add (Add)          (None, 56, 56, 256)  0           conv2_block1_out[0][0]           \n",
            "                                                                 conv2_block2_3_bn[0][0]          \n",
            "__________________________________________________________________________________________________\n",
            "conv2_block2_out (Activation)   (None, 56, 56, 256)  0           conv2_block2_add[0][0]           \n",
            "__________________________________________________________________________________________________\n",
            "conv2_block3_1_conv (Conv2D)    (None, 56, 56, 64)   16448       conv2_block2_out[0][0]           \n",
            "__________________________________________________________________________________________________\n",
            "conv2_block3_1_bn (BatchNormali (None, 56, 56, 64)   256         conv2_block3_1_conv[0][0]        \n",
            "__________________________________________________________________________________________________\n",
            "conv2_block3_1_relu (Activation (None, 56, 56, 64)   0           conv2_block3_1_bn[0][0]          \n",
            "__________________________________________________________________________________________________\n",
            "conv2_block3_2_conv (Conv2D)    (None, 56, 56, 64)   36928       conv2_block3_1_relu[0][0]        \n",
            "__________________________________________________________________________________________________\n",
            "conv2_block3_2_bn (BatchNormali (None, 56, 56, 64)   256         conv2_block3_2_conv[0][0]        \n",
            "__________________________________________________________________________________________________\n",
            "conv2_block3_2_relu (Activation (None, 56, 56, 64)   0           conv2_block3_2_bn[0][0]          \n",
            "__________________________________________________________________________________________________\n",
            "conv2_block3_3_conv (Conv2D)    (None, 56, 56, 256)  16640       conv2_block3_2_relu[0][0]        \n",
            "__________________________________________________________________________________________________\n",
            "conv2_block3_3_bn (BatchNormali (None, 56, 56, 256)  1024        conv2_block3_3_conv[0][0]        \n",
            "__________________________________________________________________________________________________\n",
            "conv2_block3_add (Add)          (None, 56, 56, 256)  0           conv2_block2_out[0][0]           \n",
            "                                                                 conv2_block3_3_bn[0][0]          \n",
            "__________________________________________________________________________________________________\n",
            "conv2_block3_out (Activation)   (None, 56, 56, 256)  0           conv2_block3_add[0][0]           \n",
            "__________________________________________________________________________________________________\n",
            "conv3_block1_1_conv (Conv2D)    (None, 28, 28, 128)  32896       conv2_block3_out[0][0]           \n",
            "__________________________________________________________________________________________________\n",
            "conv3_block1_1_bn (BatchNormali (None, 28, 28, 128)  512         conv3_block1_1_conv[0][0]        \n",
            "__________________________________________________________________________________________________\n",
            "conv3_block1_1_relu (Activation (None, 28, 28, 128)  0           conv3_block1_1_bn[0][0]          \n",
            "__________________________________________________________________________________________________\n",
            "conv3_block1_2_conv (Conv2D)    (None, 28, 28, 128)  147584      conv3_block1_1_relu[0][0]        \n",
            "__________________________________________________________________________________________________\n",
            "conv3_block1_2_bn (BatchNormali (None, 28, 28, 128)  512         conv3_block1_2_conv[0][0]        \n",
            "__________________________________________________________________________________________________\n",
            "conv3_block1_2_relu (Activation (None, 28, 28, 128)  0           conv3_block1_2_bn[0][0]          \n",
            "__________________________________________________________________________________________________\n",
            "conv3_block1_0_conv (Conv2D)    (None, 28, 28, 512)  131584      conv2_block3_out[0][0]           \n",
            "__________________________________________________________________________________________________\n",
            "conv3_block1_3_conv (Conv2D)    (None, 28, 28, 512)  66048       conv3_block1_2_relu[0][0]        \n",
            "__________________________________________________________________________________________________\n",
            "conv3_block1_0_bn (BatchNormali (None, 28, 28, 512)  2048        conv3_block1_0_conv[0][0]        \n",
            "__________________________________________________________________________________________________\n",
            "conv3_block1_3_bn (BatchNormali (None, 28, 28, 512)  2048        conv3_block1_3_conv[0][0]        \n",
            "__________________________________________________________________________________________________\n",
            "conv3_block1_add (Add)          (None, 28, 28, 512)  0           conv3_block1_0_bn[0][0]          \n",
            "                                                                 conv3_block1_3_bn[0][0]          \n",
            "__________________________________________________________________________________________________\n",
            "conv3_block1_out (Activation)   (None, 28, 28, 512)  0           conv3_block1_add[0][0]           \n",
            "__________________________________________________________________________________________________\n",
            "conv3_block2_1_conv (Conv2D)    (None, 28, 28, 128)  65664       conv3_block1_out[0][0]           \n",
            "__________________________________________________________________________________________________\n",
            "conv3_block2_1_bn (BatchNormali (None, 28, 28, 128)  512         conv3_block2_1_conv[0][0]        \n",
            "__________________________________________________________________________________________________\n",
            "conv3_block2_1_relu (Activation (None, 28, 28, 128)  0           conv3_block2_1_bn[0][0]          \n",
            "__________________________________________________________________________________________________\n",
            "conv3_block2_2_conv (Conv2D)    (None, 28, 28, 128)  147584      conv3_block2_1_relu[0][0]        \n",
            "__________________________________________________________________________________________________\n",
            "conv3_block2_2_bn (BatchNormali (None, 28, 28, 128)  512         conv3_block2_2_conv[0][0]        \n",
            "__________________________________________________________________________________________________\n",
            "conv3_block2_2_relu (Activation (None, 28, 28, 128)  0           conv3_block2_2_bn[0][0]          \n",
            "__________________________________________________________________________________________________\n",
            "conv3_block2_3_conv (Conv2D)    (None, 28, 28, 512)  66048       conv3_block2_2_relu[0][0]        \n",
            "__________________________________________________________________________________________________\n",
            "conv3_block2_3_bn (BatchNormali (None, 28, 28, 512)  2048        conv3_block2_3_conv[0][0]        \n",
            "__________________________________________________________________________________________________\n",
            "conv3_block2_add (Add)          (None, 28, 28, 512)  0           conv3_block1_out[0][0]           \n",
            "                                                                 conv3_block2_3_bn[0][0]          \n",
            "__________________________________________________________________________________________________\n",
            "conv3_block2_out (Activation)   (None, 28, 28, 512)  0           conv3_block2_add[0][0]           \n",
            "__________________________________________________________________________________________________\n",
            "conv3_block3_1_conv (Conv2D)    (None, 28, 28, 128)  65664       conv3_block2_out[0][0]           \n",
            "__________________________________________________________________________________________________\n",
            "conv3_block3_1_bn (BatchNormali (None, 28, 28, 128)  512         conv3_block3_1_conv[0][0]        \n",
            "__________________________________________________________________________________________________\n",
            "conv3_block3_1_relu (Activation (None, 28, 28, 128)  0           conv3_block3_1_bn[0][0]          \n",
            "__________________________________________________________________________________________________\n",
            "conv3_block3_2_conv (Conv2D)    (None, 28, 28, 128)  147584      conv3_block3_1_relu[0][0]        \n",
            "__________________________________________________________________________________________________\n",
            "conv3_block3_2_bn (BatchNormali (None, 28, 28, 128)  512         conv3_block3_2_conv[0][0]        \n",
            "__________________________________________________________________________________________________\n",
            "conv3_block3_2_relu (Activation (None, 28, 28, 128)  0           conv3_block3_2_bn[0][0]          \n",
            "__________________________________________________________________________________________________\n",
            "conv3_block3_3_conv (Conv2D)    (None, 28, 28, 512)  66048       conv3_block3_2_relu[0][0]        \n",
            "__________________________________________________________________________________________________\n",
            "conv3_block3_3_bn (BatchNormali (None, 28, 28, 512)  2048        conv3_block3_3_conv[0][0]        \n",
            "__________________________________________________________________________________________________\n",
            "conv3_block3_add (Add)          (None, 28, 28, 512)  0           conv3_block2_out[0][0]           \n",
            "                                                                 conv3_block3_3_bn[0][0]          \n",
            "__________________________________________________________________________________________________\n",
            "conv3_block3_out (Activation)   (None, 28, 28, 512)  0           conv3_block3_add[0][0]           \n",
            "__________________________________________________________________________________________________\n",
            "conv3_block4_1_conv (Conv2D)    (None, 28, 28, 128)  65664       conv3_block3_out[0][0]           \n",
            "__________________________________________________________________________________________________\n",
            "conv3_block4_1_bn (BatchNormali (None, 28, 28, 128)  512         conv3_block4_1_conv[0][0]        \n",
            "__________________________________________________________________________________________________\n",
            "conv3_block4_1_relu (Activation (None, 28, 28, 128)  0           conv3_block4_1_bn[0][0]          \n",
            "__________________________________________________________________________________________________\n",
            "conv3_block4_2_conv (Conv2D)    (None, 28, 28, 128)  147584      conv3_block4_1_relu[0][0]        \n",
            "__________________________________________________________________________________________________\n",
            "conv3_block4_2_bn (BatchNormali (None, 28, 28, 128)  512         conv3_block4_2_conv[0][0]        \n",
            "__________________________________________________________________________________________________\n",
            "conv3_block4_2_relu (Activation (None, 28, 28, 128)  0           conv3_block4_2_bn[0][0]          \n",
            "__________________________________________________________________________________________________\n",
            "conv3_block4_3_conv (Conv2D)    (None, 28, 28, 512)  66048       conv3_block4_2_relu[0][0]        \n",
            "__________________________________________________________________________________________________\n",
            "conv3_block4_3_bn (BatchNormali (None, 28, 28, 512)  2048        conv3_block4_3_conv[0][0]        \n",
            "__________________________________________________________________________________________________\n",
            "conv3_block4_add (Add)          (None, 28, 28, 512)  0           conv3_block3_out[0][0]           \n",
            "                                                                 conv3_block4_3_bn[0][0]          \n",
            "__________________________________________________________________________________________________\n",
            "conv3_block4_out (Activation)   (None, 28, 28, 512)  0           conv3_block4_add[0][0]           \n",
            "__________________________________________________________________________________________________\n",
            "conv4_block1_1_conv (Conv2D)    (None, 14, 14, 256)  131328      conv3_block4_out[0][0]           \n",
            "__________________________________________________________________________________________________\n",
            "conv4_block1_1_bn (BatchNormali (None, 14, 14, 256)  1024        conv4_block1_1_conv[0][0]        \n",
            "__________________________________________________________________________________________________\n",
            "conv4_block1_1_relu (Activation (None, 14, 14, 256)  0           conv4_block1_1_bn[0][0]          \n",
            "__________________________________________________________________________________________________\n",
            "conv4_block1_2_conv (Conv2D)    (None, 14, 14, 256)  590080      conv4_block1_1_relu[0][0]        \n",
            "__________________________________________________________________________________________________\n",
            "conv4_block1_2_bn (BatchNormali (None, 14, 14, 256)  1024        conv4_block1_2_conv[0][0]        \n",
            "__________________________________________________________________________________________________\n",
            "conv4_block1_2_relu (Activation (None, 14, 14, 256)  0           conv4_block1_2_bn[0][0]          \n",
            "__________________________________________________________________________________________________\n",
            "conv4_block1_0_conv (Conv2D)    (None, 14, 14, 1024) 525312      conv3_block4_out[0][0]           \n",
            "__________________________________________________________________________________________________\n",
            "conv4_block1_3_conv (Conv2D)    (None, 14, 14, 1024) 263168      conv4_block1_2_relu[0][0]        \n",
            "__________________________________________________________________________________________________\n",
            "conv4_block1_0_bn (BatchNormali (None, 14, 14, 1024) 4096        conv4_block1_0_conv[0][0]        \n",
            "__________________________________________________________________________________________________\n",
            "conv4_block1_3_bn (BatchNormali (None, 14, 14, 1024) 4096        conv4_block1_3_conv[0][0]        \n",
            "__________________________________________________________________________________________________\n",
            "conv4_block1_add (Add)          (None, 14, 14, 1024) 0           conv4_block1_0_bn[0][0]          \n",
            "                                                                 conv4_block1_3_bn[0][0]          \n",
            "__________________________________________________________________________________________________\n",
            "conv4_block1_out (Activation)   (None, 14, 14, 1024) 0           conv4_block1_add[0][0]           \n",
            "__________________________________________________________________________________________________\n",
            "conv4_block2_1_conv (Conv2D)    (None, 14, 14, 256)  262400      conv4_block1_out[0][0]           \n",
            "__________________________________________________________________________________________________\n",
            "conv4_block2_1_bn (BatchNormali (None, 14, 14, 256)  1024        conv4_block2_1_conv[0][0]        \n",
            "__________________________________________________________________________________________________\n",
            "conv4_block2_1_relu (Activation (None, 14, 14, 256)  0           conv4_block2_1_bn[0][0]          \n",
            "__________________________________________________________________________________________________\n",
            "conv4_block2_2_conv (Conv2D)    (None, 14, 14, 256)  590080      conv4_block2_1_relu[0][0]        \n",
            "__________________________________________________________________________________________________\n",
            "conv4_block2_2_bn (BatchNormali (None, 14, 14, 256)  1024        conv4_block2_2_conv[0][0]        \n",
            "__________________________________________________________________________________________________\n",
            "conv4_block2_2_relu (Activation (None, 14, 14, 256)  0           conv4_block2_2_bn[0][0]          \n",
            "__________________________________________________________________________________________________\n",
            "conv4_block2_3_conv (Conv2D)    (None, 14, 14, 1024) 263168      conv4_block2_2_relu[0][0]        \n",
            "__________________________________________________________________________________________________\n",
            "conv4_block2_3_bn (BatchNormali (None, 14, 14, 1024) 4096        conv4_block2_3_conv[0][0]        \n",
            "__________________________________________________________________________________________________\n",
            "conv4_block2_add (Add)          (None, 14, 14, 1024) 0           conv4_block1_out[0][0]           \n",
            "                                                                 conv4_block2_3_bn[0][0]          \n",
            "__________________________________________________________________________________________________\n",
            "conv4_block2_out (Activation)   (None, 14, 14, 1024) 0           conv4_block2_add[0][0]           \n",
            "__________________________________________________________________________________________________\n",
            "conv4_block3_1_conv (Conv2D)    (None, 14, 14, 256)  262400      conv4_block2_out[0][0]           \n",
            "__________________________________________________________________________________________________\n",
            "conv4_block3_1_bn (BatchNormali (None, 14, 14, 256)  1024        conv4_block3_1_conv[0][0]        \n",
            "__________________________________________________________________________________________________\n",
            "conv4_block3_1_relu (Activation (None, 14, 14, 256)  0           conv4_block3_1_bn[0][0]          \n",
            "__________________________________________________________________________________________________\n",
            "conv4_block3_2_conv (Conv2D)    (None, 14, 14, 256)  590080      conv4_block3_1_relu[0][0]        \n",
            "__________________________________________________________________________________________________\n",
            "conv4_block3_2_bn (BatchNormali (None, 14, 14, 256)  1024        conv4_block3_2_conv[0][0]        \n",
            "__________________________________________________________________________________________________\n",
            "conv4_block3_2_relu (Activation (None, 14, 14, 256)  0           conv4_block3_2_bn[0][0]          \n",
            "__________________________________________________________________________________________________\n",
            "conv4_block3_3_conv (Conv2D)    (None, 14, 14, 1024) 263168      conv4_block3_2_relu[0][0]        \n",
            "__________________________________________________________________________________________________\n",
            "conv4_block3_3_bn (BatchNormali (None, 14, 14, 1024) 4096        conv4_block3_3_conv[0][0]        \n",
            "__________________________________________________________________________________________________\n",
            "conv4_block3_add (Add)          (None, 14, 14, 1024) 0           conv4_block2_out[0][0]           \n",
            "                                                                 conv4_block3_3_bn[0][0]          \n",
            "__________________________________________________________________________________________________\n",
            "conv4_block3_out (Activation)   (None, 14, 14, 1024) 0           conv4_block3_add[0][0]           \n",
            "__________________________________________________________________________________________________\n",
            "conv4_block4_1_conv (Conv2D)    (None, 14, 14, 256)  262400      conv4_block3_out[0][0]           \n",
            "__________________________________________________________________________________________________\n",
            "conv4_block4_1_bn (BatchNormali (None, 14, 14, 256)  1024        conv4_block4_1_conv[0][0]        \n",
            "__________________________________________________________________________________________________\n",
            "conv4_block4_1_relu (Activation (None, 14, 14, 256)  0           conv4_block4_1_bn[0][0]          \n",
            "__________________________________________________________________________________________________\n",
            "conv4_block4_2_conv (Conv2D)    (None, 14, 14, 256)  590080      conv4_block4_1_relu[0][0]        \n",
            "__________________________________________________________________________________________________\n",
            "conv4_block4_2_bn (BatchNormali (None, 14, 14, 256)  1024        conv4_block4_2_conv[0][0]        \n",
            "__________________________________________________________________________________________________\n",
            "conv4_block4_2_relu (Activation (None, 14, 14, 256)  0           conv4_block4_2_bn[0][0]          \n",
            "__________________________________________________________________________________________________\n",
            "conv4_block4_3_conv (Conv2D)    (None, 14, 14, 1024) 263168      conv4_block4_2_relu[0][0]        \n",
            "__________________________________________________________________________________________________\n",
            "conv4_block4_3_bn (BatchNormali (None, 14, 14, 1024) 4096        conv4_block4_3_conv[0][0]        \n",
            "__________________________________________________________________________________________________\n",
            "conv4_block4_add (Add)          (None, 14, 14, 1024) 0           conv4_block3_out[0][0]           \n",
            "                                                                 conv4_block4_3_bn[0][0]          \n",
            "__________________________________________________________________________________________________\n",
            "conv4_block4_out (Activation)   (None, 14, 14, 1024) 0           conv4_block4_add[0][0]           \n",
            "__________________________________________________________________________________________________\n",
            "conv4_block5_1_conv (Conv2D)    (None, 14, 14, 256)  262400      conv4_block4_out[0][0]           \n",
            "__________________________________________________________________________________________________\n",
            "conv4_block5_1_bn (BatchNormali (None, 14, 14, 256)  1024        conv4_block5_1_conv[0][0]        \n",
            "__________________________________________________________________________________________________\n",
            "conv4_block5_1_relu (Activation (None, 14, 14, 256)  0           conv4_block5_1_bn[0][0]          \n",
            "__________________________________________________________________________________________________\n",
            "conv4_block5_2_conv (Conv2D)    (None, 14, 14, 256)  590080      conv4_block5_1_relu[0][0]        \n",
            "__________________________________________________________________________________________________\n",
            "conv4_block5_2_bn (BatchNormali (None, 14, 14, 256)  1024        conv4_block5_2_conv[0][0]        \n",
            "__________________________________________________________________________________________________\n",
            "conv4_block5_2_relu (Activation (None, 14, 14, 256)  0           conv4_block5_2_bn[0][0]          \n",
            "__________________________________________________________________________________________________\n",
            "conv4_block5_3_conv (Conv2D)    (None, 14, 14, 1024) 263168      conv4_block5_2_relu[0][0]        \n",
            "__________________________________________________________________________________________________\n",
            "conv4_block5_3_bn (BatchNormali (None, 14, 14, 1024) 4096        conv4_block5_3_conv[0][0]        \n",
            "__________________________________________________________________________________________________\n",
            "conv4_block5_add (Add)          (None, 14, 14, 1024) 0           conv4_block4_out[0][0]           \n",
            "                                                                 conv4_block5_3_bn[0][0]          \n",
            "__________________________________________________________________________________________________\n",
            "conv4_block5_out (Activation)   (None, 14, 14, 1024) 0           conv4_block5_add[0][0]           \n",
            "__________________________________________________________________________________________________\n",
            "conv4_block6_1_conv (Conv2D)    (None, 14, 14, 256)  262400      conv4_block5_out[0][0]           \n",
            "__________________________________________________________________________________________________\n",
            "conv4_block6_1_bn (BatchNormali (None, 14, 14, 256)  1024        conv4_block6_1_conv[0][0]        \n",
            "__________________________________________________________________________________________________\n",
            "conv4_block6_1_relu (Activation (None, 14, 14, 256)  0           conv4_block6_1_bn[0][0]          \n",
            "__________________________________________________________________________________________________\n",
            "conv4_block6_2_conv (Conv2D)    (None, 14, 14, 256)  590080      conv4_block6_1_relu[0][0]        \n",
            "__________________________________________________________________________________________________\n",
            "conv4_block6_2_bn (BatchNormali (None, 14, 14, 256)  1024        conv4_block6_2_conv[0][0]        \n",
            "__________________________________________________________________________________________________\n",
            "conv4_block6_2_relu (Activation (None, 14, 14, 256)  0           conv4_block6_2_bn[0][0]          \n",
            "__________________________________________________________________________________________________\n",
            "conv4_block6_3_conv (Conv2D)    (None, 14, 14, 1024) 263168      conv4_block6_2_relu[0][0]        \n",
            "__________________________________________________________________________________________________\n",
            "conv4_block6_3_bn (BatchNormali (None, 14, 14, 1024) 4096        conv4_block6_3_conv[0][0]        \n",
            "__________________________________________________________________________________________________\n",
            "conv4_block6_add (Add)          (None, 14, 14, 1024) 0           conv4_block5_out[0][0]           \n",
            "                                                                 conv4_block6_3_bn[0][0]          \n",
            "__________________________________________________________________________________________________\n",
            "conv4_block6_out (Activation)   (None, 14, 14, 1024) 0           conv4_block6_add[0][0]           \n",
            "__________________________________________________________________________________________________\n",
            "conv5_block1_1_conv (Conv2D)    (None, 7, 7, 512)    524800      conv4_block6_out[0][0]           \n",
            "__________________________________________________________________________________________________\n",
            "conv5_block1_1_bn (BatchNormali (None, 7, 7, 512)    2048        conv5_block1_1_conv[0][0]        \n",
            "__________________________________________________________________________________________________\n",
            "conv5_block1_1_relu (Activation (None, 7, 7, 512)    0           conv5_block1_1_bn[0][0]          \n",
            "__________________________________________________________________________________________________\n",
            "conv5_block1_2_conv (Conv2D)    (None, 7, 7, 512)    2359808     conv5_block1_1_relu[0][0]        \n",
            "__________________________________________________________________________________________________\n",
            "conv5_block1_2_bn (BatchNormali (None, 7, 7, 512)    2048        conv5_block1_2_conv[0][0]        \n",
            "__________________________________________________________________________________________________\n",
            "conv5_block1_2_relu (Activation (None, 7, 7, 512)    0           conv5_block1_2_bn[0][0]          \n",
            "__________________________________________________________________________________________________\n",
            "conv5_block1_0_conv (Conv2D)    (None, 7, 7, 2048)   2099200     conv4_block6_out[0][0]           \n",
            "__________________________________________________________________________________________________\n",
            "conv5_block1_3_conv (Conv2D)    (None, 7, 7, 2048)   1050624     conv5_block1_2_relu[0][0]        \n",
            "__________________________________________________________________________________________________\n",
            "conv5_block1_0_bn (BatchNormali (None, 7, 7, 2048)   8192        conv5_block1_0_conv[0][0]        \n",
            "__________________________________________________________________________________________________\n",
            "conv5_block1_3_bn (BatchNormali (None, 7, 7, 2048)   8192        conv5_block1_3_conv[0][0]        \n",
            "__________________________________________________________________________________________________\n",
            "conv5_block1_add (Add)          (None, 7, 7, 2048)   0           conv5_block1_0_bn[0][0]          \n",
            "                                                                 conv5_block1_3_bn[0][0]          \n",
            "__________________________________________________________________________________________________\n",
            "conv5_block1_out (Activation)   (None, 7, 7, 2048)   0           conv5_block1_add[0][0]           \n",
            "__________________________________________________________________________________________________\n",
            "conv5_block2_1_conv (Conv2D)    (None, 7, 7, 512)    1049088     conv5_block1_out[0][0]           \n",
            "__________________________________________________________________________________________________\n",
            "conv5_block2_1_bn (BatchNormali (None, 7, 7, 512)    2048        conv5_block2_1_conv[0][0]        \n",
            "__________________________________________________________________________________________________\n",
            "conv5_block2_1_relu (Activation (None, 7, 7, 512)    0           conv5_block2_1_bn[0][0]          \n",
            "__________________________________________________________________________________________________\n",
            "conv5_block2_2_conv (Conv2D)    (None, 7, 7, 512)    2359808     conv5_block2_1_relu[0][0]        \n",
            "__________________________________________________________________________________________________\n",
            "conv5_block2_2_bn (BatchNormali (None, 7, 7, 512)    2048        conv5_block2_2_conv[0][0]        \n",
            "__________________________________________________________________________________________________\n",
            "conv5_block2_2_relu (Activation (None, 7, 7, 512)    0           conv5_block2_2_bn[0][0]          \n",
            "__________________________________________________________________________________________________\n",
            "conv5_block2_3_conv (Conv2D)    (None, 7, 7, 2048)   1050624     conv5_block2_2_relu[0][0]        \n",
            "__________________________________________________________________________________________________\n",
            "conv5_block2_3_bn (BatchNormali (None, 7, 7, 2048)   8192        conv5_block2_3_conv[0][0]        \n",
            "__________________________________________________________________________________________________\n",
            "conv5_block2_add (Add)          (None, 7, 7, 2048)   0           conv5_block1_out[0][0]           \n",
            "                                                                 conv5_block2_3_bn[0][0]          \n",
            "__________________________________________________________________________________________________\n",
            "conv5_block2_out (Activation)   (None, 7, 7, 2048)   0           conv5_block2_add[0][0]           \n",
            "__________________________________________________________________________________________________\n",
            "conv5_block3_1_conv (Conv2D)    (None, 7, 7, 512)    1049088     conv5_block2_out[0][0]           \n",
            "__________________________________________________________________________________________________\n",
            "conv5_block3_1_bn (BatchNormali (None, 7, 7, 512)    2048        conv5_block3_1_conv[0][0]        \n",
            "__________________________________________________________________________________________________\n",
            "conv5_block3_1_relu (Activation (None, 7, 7, 512)    0           conv5_block3_1_bn[0][0]          \n",
            "__________________________________________________________________________________________________\n",
            "conv5_block3_2_conv (Conv2D)    (None, 7, 7, 512)    2359808     conv5_block3_1_relu[0][0]        \n",
            "__________________________________________________________________________________________________\n",
            "conv5_block3_2_bn (BatchNormali (None, 7, 7, 512)    2048        conv5_block3_2_conv[0][0]        \n",
            "__________________________________________________________________________________________________\n",
            "conv5_block3_2_relu (Activation (None, 7, 7, 512)    0           conv5_block3_2_bn[0][0]          \n",
            "__________________________________________________________________________________________________\n",
            "conv5_block3_3_conv (Conv2D)    (None, 7, 7, 2048)   1050624     conv5_block3_2_relu[0][0]        \n",
            "__________________________________________________________________________________________________\n",
            "conv5_block3_3_bn (BatchNormali (None, 7, 7, 2048)   8192        conv5_block3_3_conv[0][0]        \n",
            "__________________________________________________________________________________________________\n",
            "conv5_block3_add (Add)          (None, 7, 7, 2048)   0           conv5_block2_out[0][0]           \n",
            "                                                                 conv5_block3_3_bn[0][0]          \n",
            "__________________________________________________________________________________________________\n",
            "conv5_block3_out (Activation)   (None, 7, 7, 2048)   0           conv5_block3_add[0][0]           \n",
            "==================================================================================================\n",
            "Total params: 23,587,712\n",
            "Trainable params: 23,534,592\n",
            "Non-trainable params: 53,120\n",
            "__________________________________________________________________________________________________\n"
          ],
          "name": "stdout"
        }
      ]
    },
    {
      "cell_type": "markdown",
      "metadata": {
        "id": "lQloYEN25vnc"
      },
      "source": [
        "*** Whatever weights are there in ResNet50, we are going to re-use those.***\n",
        "\n",
        "This stops any updates to the pre-trained weights during training We do not want to train ResNet layers as we want to leverage the knowledge learned by the deep neural network trained from the previous data set which in our case is “imagenet”"
      ]
    },
    {
      "cell_type": "code",
      "metadata": {
        "id": "7eqe8tee3ntD"
      },
      "source": [
        "# we do not train the existing weights.\n",
        "for layer in resnet.layers:\n",
        "  layer.trainable = False"
      ],
      "execution_count": null,
      "outputs": []
    },
    {
      "cell_type": "code",
      "metadata": {
        "id": "ZmScLFOc6Xdw"
      },
      "source": [
        "# glob - useful for getting number of ouput class\n",
        "folders = glob(\"/content/Datasets/Datasets/Train/*\")"
      ],
      "execution_count": 122,
      "outputs": []
    },
    {
      "cell_type": "code",
      "metadata": {
        "colab": {
          "base_uri": "https://localhost:8080/"
        },
        "id": "CkKYRvBs6tz1",
        "outputId": "6e63926e-4319-45dd-fbf6-4d4a81a6f055"
      },
      "source": [
        "print(folders)  ## length of the output category for my dataset( in this case- \"3\")"
      ],
      "execution_count": 123,
      "outputs": [
        {
          "output_type": "stream",
          "text": [
            "['/content/Datasets/Datasets/Train/lamborghini', '/content/Datasets/Datasets/Train/mercedes', '/content/Datasets/Datasets/Train/audi']\n"
          ],
          "name": "stdout"
        }
      ]
    },
    {
      "cell_type": "code",
      "metadata": {
        "id": "pWlZBtme6wPH"
      },
      "source": [
        "# Flatten the ouput\n",
        "x = Flatten()(resnet.output)"
      ],
      "execution_count": null,
      "outputs": []
    },
    {
      "cell_type": "code",
      "metadata": {
        "colab": {
          "base_uri": "https://localhost:8080/"
        },
        "id": "HEzAnJPtCkkx",
        "outputId": "c9babf11-876d-49d3-a64c-886b9cf0ede9"
      },
      "source": [
        "len(folders)"
      ],
      "execution_count": 124,
      "outputs": [
        {
          "output_type": "execute_result",
          "data": {
            "text/plain": [
              "3"
            ]
          },
          "metadata": {
            "tags": []
          },
          "execution_count": 124
        }
      ]
    },
    {
      "cell_type": "markdown",
      "metadata": {
        "id": "mDy27dU5CmpY"
      },
      "source": [
        "*** the output dimension is 3(number of classes).***"
      ]
    },
    {
      "cell_type": "code",
      "metadata": {
        "id": "wURLhPfL7dei"
      },
      "source": [
        "prediction = Dense(len(folders), activation='softmax')(x)"
      ],
      "execution_count": null,
      "outputs": []
    },
    {
      "cell_type": "code",
      "metadata": {
        "id": "ZJOC4UD2FPNL"
      },
      "source": [
        "# creating the model\n",
        "model = Model(resnet.input, outputs = prediction)"
      ],
      "execution_count": null,
      "outputs": []
    },
    {
      "cell_type": "code",
      "metadata": {
        "colab": {
          "base_uri": "https://localhost:8080/"
        },
        "id": "bt8XyxgPFZ9m",
        "outputId": "346033eb-7b50-495d-d1e2-0dab0eedbd80"
      },
      "source": [
        "## Now, the structure of our model  (see the difference- last layer(flatten and dense))\n",
        "model.summary()"
      ],
      "execution_count": null,
      "outputs": [
        {
          "output_type": "stream",
          "text": [
            "Model: \"model\"\n",
            "__________________________________________________________________________________________________\n",
            "Layer (type)                    Output Shape         Param #     Connected to                     \n",
            "==================================================================================================\n",
            "input_2 (InputLayer)            [(None, 224, 224, 3) 0                                            \n",
            "__________________________________________________________________________________________________\n",
            "conv1_pad (ZeroPadding2D)       (None, 230, 230, 3)  0           input_2[0][0]                    \n",
            "__________________________________________________________________________________________________\n",
            "conv1_conv (Conv2D)             (None, 112, 112, 64) 9472        conv1_pad[0][0]                  \n",
            "__________________________________________________________________________________________________\n",
            "conv1_bn (BatchNormalization)   (None, 112, 112, 64) 256         conv1_conv[0][0]                 \n",
            "__________________________________________________________________________________________________\n",
            "conv1_relu (Activation)         (None, 112, 112, 64) 0           conv1_bn[0][0]                   \n",
            "__________________________________________________________________________________________________\n",
            "pool1_pad (ZeroPadding2D)       (None, 114, 114, 64) 0           conv1_relu[0][0]                 \n",
            "__________________________________________________________________________________________________\n",
            "pool1_pool (MaxPooling2D)       (None, 56, 56, 64)   0           pool1_pad[0][0]                  \n",
            "__________________________________________________________________________________________________\n",
            "conv2_block1_1_conv (Conv2D)    (None, 56, 56, 64)   4160        pool1_pool[0][0]                 \n",
            "__________________________________________________________________________________________________\n",
            "conv2_block1_1_bn (BatchNormali (None, 56, 56, 64)   256         conv2_block1_1_conv[0][0]        \n",
            "__________________________________________________________________________________________________\n",
            "conv2_block1_1_relu (Activation (None, 56, 56, 64)   0           conv2_block1_1_bn[0][0]          \n",
            "__________________________________________________________________________________________________\n",
            "conv2_block1_2_conv (Conv2D)    (None, 56, 56, 64)   36928       conv2_block1_1_relu[0][0]        \n",
            "__________________________________________________________________________________________________\n",
            "conv2_block1_2_bn (BatchNormali (None, 56, 56, 64)   256         conv2_block1_2_conv[0][0]        \n",
            "__________________________________________________________________________________________________\n",
            "conv2_block1_2_relu (Activation (None, 56, 56, 64)   0           conv2_block1_2_bn[0][0]          \n",
            "__________________________________________________________________________________________________\n",
            "conv2_block1_0_conv (Conv2D)    (None, 56, 56, 256)  16640       pool1_pool[0][0]                 \n",
            "__________________________________________________________________________________________________\n",
            "conv2_block1_3_conv (Conv2D)    (None, 56, 56, 256)  16640       conv2_block1_2_relu[0][0]        \n",
            "__________________________________________________________________________________________________\n",
            "conv2_block1_0_bn (BatchNormali (None, 56, 56, 256)  1024        conv2_block1_0_conv[0][0]        \n",
            "__________________________________________________________________________________________________\n",
            "conv2_block1_3_bn (BatchNormali (None, 56, 56, 256)  1024        conv2_block1_3_conv[0][0]        \n",
            "__________________________________________________________________________________________________\n",
            "conv2_block1_add (Add)          (None, 56, 56, 256)  0           conv2_block1_0_bn[0][0]          \n",
            "                                                                 conv2_block1_3_bn[0][0]          \n",
            "__________________________________________________________________________________________________\n",
            "conv2_block1_out (Activation)   (None, 56, 56, 256)  0           conv2_block1_add[0][0]           \n",
            "__________________________________________________________________________________________________\n",
            "conv2_block2_1_conv (Conv2D)    (None, 56, 56, 64)   16448       conv2_block1_out[0][0]           \n",
            "__________________________________________________________________________________________________\n",
            "conv2_block2_1_bn (BatchNormali (None, 56, 56, 64)   256         conv2_block2_1_conv[0][0]        \n",
            "__________________________________________________________________________________________________\n",
            "conv2_block2_1_relu (Activation (None, 56, 56, 64)   0           conv2_block2_1_bn[0][0]          \n",
            "__________________________________________________________________________________________________\n",
            "conv2_block2_2_conv (Conv2D)    (None, 56, 56, 64)   36928       conv2_block2_1_relu[0][0]        \n",
            "__________________________________________________________________________________________________\n",
            "conv2_block2_2_bn (BatchNormali (None, 56, 56, 64)   256         conv2_block2_2_conv[0][0]        \n",
            "__________________________________________________________________________________________________\n",
            "conv2_block2_2_relu (Activation (None, 56, 56, 64)   0           conv2_block2_2_bn[0][0]          \n",
            "__________________________________________________________________________________________________\n",
            "conv2_block2_3_conv (Conv2D)    (None, 56, 56, 256)  16640       conv2_block2_2_relu[0][0]        \n",
            "__________________________________________________________________________________________________\n",
            "conv2_block2_3_bn (BatchNormali (None, 56, 56, 256)  1024        conv2_block2_3_conv[0][0]        \n",
            "__________________________________________________________________________________________________\n",
            "conv2_block2_add (Add)          (None, 56, 56, 256)  0           conv2_block1_out[0][0]           \n",
            "                                                                 conv2_block2_3_bn[0][0]          \n",
            "__________________________________________________________________________________________________\n",
            "conv2_block2_out (Activation)   (None, 56, 56, 256)  0           conv2_block2_add[0][0]           \n",
            "__________________________________________________________________________________________________\n",
            "conv2_block3_1_conv (Conv2D)    (None, 56, 56, 64)   16448       conv2_block2_out[0][0]           \n",
            "__________________________________________________________________________________________________\n",
            "conv2_block3_1_bn (BatchNormali (None, 56, 56, 64)   256         conv2_block3_1_conv[0][0]        \n",
            "__________________________________________________________________________________________________\n",
            "conv2_block3_1_relu (Activation (None, 56, 56, 64)   0           conv2_block3_1_bn[0][0]          \n",
            "__________________________________________________________________________________________________\n",
            "conv2_block3_2_conv (Conv2D)    (None, 56, 56, 64)   36928       conv2_block3_1_relu[0][0]        \n",
            "__________________________________________________________________________________________________\n",
            "conv2_block3_2_bn (BatchNormali (None, 56, 56, 64)   256         conv2_block3_2_conv[0][0]        \n",
            "__________________________________________________________________________________________________\n",
            "conv2_block3_2_relu (Activation (None, 56, 56, 64)   0           conv2_block3_2_bn[0][0]          \n",
            "__________________________________________________________________________________________________\n",
            "conv2_block3_3_conv (Conv2D)    (None, 56, 56, 256)  16640       conv2_block3_2_relu[0][0]        \n",
            "__________________________________________________________________________________________________\n",
            "conv2_block3_3_bn (BatchNormali (None, 56, 56, 256)  1024        conv2_block3_3_conv[0][0]        \n",
            "__________________________________________________________________________________________________\n",
            "conv2_block3_add (Add)          (None, 56, 56, 256)  0           conv2_block2_out[0][0]           \n",
            "                                                                 conv2_block3_3_bn[0][0]          \n",
            "__________________________________________________________________________________________________\n",
            "conv2_block3_out (Activation)   (None, 56, 56, 256)  0           conv2_block3_add[0][0]           \n",
            "__________________________________________________________________________________________________\n",
            "conv3_block1_1_conv (Conv2D)    (None, 28, 28, 128)  32896       conv2_block3_out[0][0]           \n",
            "__________________________________________________________________________________________________\n",
            "conv3_block1_1_bn (BatchNormali (None, 28, 28, 128)  512         conv3_block1_1_conv[0][0]        \n",
            "__________________________________________________________________________________________________\n",
            "conv3_block1_1_relu (Activation (None, 28, 28, 128)  0           conv3_block1_1_bn[0][0]          \n",
            "__________________________________________________________________________________________________\n",
            "conv3_block1_2_conv (Conv2D)    (None, 28, 28, 128)  147584      conv3_block1_1_relu[0][0]        \n",
            "__________________________________________________________________________________________________\n",
            "conv3_block1_2_bn (BatchNormali (None, 28, 28, 128)  512         conv3_block1_2_conv[0][0]        \n",
            "__________________________________________________________________________________________________\n",
            "conv3_block1_2_relu (Activation (None, 28, 28, 128)  0           conv3_block1_2_bn[0][0]          \n",
            "__________________________________________________________________________________________________\n",
            "conv3_block1_0_conv (Conv2D)    (None, 28, 28, 512)  131584      conv2_block3_out[0][0]           \n",
            "__________________________________________________________________________________________________\n",
            "conv3_block1_3_conv (Conv2D)    (None, 28, 28, 512)  66048       conv3_block1_2_relu[0][0]        \n",
            "__________________________________________________________________________________________________\n",
            "conv3_block1_0_bn (BatchNormali (None, 28, 28, 512)  2048        conv3_block1_0_conv[0][0]        \n",
            "__________________________________________________________________________________________________\n",
            "conv3_block1_3_bn (BatchNormali (None, 28, 28, 512)  2048        conv3_block1_3_conv[0][0]        \n",
            "__________________________________________________________________________________________________\n",
            "conv3_block1_add (Add)          (None, 28, 28, 512)  0           conv3_block1_0_bn[0][0]          \n",
            "                                                                 conv3_block1_3_bn[0][0]          \n",
            "__________________________________________________________________________________________________\n",
            "conv3_block1_out (Activation)   (None, 28, 28, 512)  0           conv3_block1_add[0][0]           \n",
            "__________________________________________________________________________________________________\n",
            "conv3_block2_1_conv (Conv2D)    (None, 28, 28, 128)  65664       conv3_block1_out[0][0]           \n",
            "__________________________________________________________________________________________________\n",
            "conv3_block2_1_bn (BatchNormali (None, 28, 28, 128)  512         conv3_block2_1_conv[0][0]        \n",
            "__________________________________________________________________________________________________\n",
            "conv3_block2_1_relu (Activation (None, 28, 28, 128)  0           conv3_block2_1_bn[0][0]          \n",
            "__________________________________________________________________________________________________\n",
            "conv3_block2_2_conv (Conv2D)    (None, 28, 28, 128)  147584      conv3_block2_1_relu[0][0]        \n",
            "__________________________________________________________________________________________________\n",
            "conv3_block2_2_bn (BatchNormali (None, 28, 28, 128)  512         conv3_block2_2_conv[0][0]        \n",
            "__________________________________________________________________________________________________\n",
            "conv3_block2_2_relu (Activation (None, 28, 28, 128)  0           conv3_block2_2_bn[0][0]          \n",
            "__________________________________________________________________________________________________\n",
            "conv3_block2_3_conv (Conv2D)    (None, 28, 28, 512)  66048       conv3_block2_2_relu[0][0]        \n",
            "__________________________________________________________________________________________________\n",
            "conv3_block2_3_bn (BatchNormali (None, 28, 28, 512)  2048        conv3_block2_3_conv[0][0]        \n",
            "__________________________________________________________________________________________________\n",
            "conv3_block2_add (Add)          (None, 28, 28, 512)  0           conv3_block1_out[0][0]           \n",
            "                                                                 conv3_block2_3_bn[0][0]          \n",
            "__________________________________________________________________________________________________\n",
            "conv3_block2_out (Activation)   (None, 28, 28, 512)  0           conv3_block2_add[0][0]           \n",
            "__________________________________________________________________________________________________\n",
            "conv3_block3_1_conv (Conv2D)    (None, 28, 28, 128)  65664       conv3_block2_out[0][0]           \n",
            "__________________________________________________________________________________________________\n",
            "conv3_block3_1_bn (BatchNormali (None, 28, 28, 128)  512         conv3_block3_1_conv[0][0]        \n",
            "__________________________________________________________________________________________________\n",
            "conv3_block3_1_relu (Activation (None, 28, 28, 128)  0           conv3_block3_1_bn[0][0]          \n",
            "__________________________________________________________________________________________________\n",
            "conv3_block3_2_conv (Conv2D)    (None, 28, 28, 128)  147584      conv3_block3_1_relu[0][0]        \n",
            "__________________________________________________________________________________________________\n",
            "conv3_block3_2_bn (BatchNormali (None, 28, 28, 128)  512         conv3_block3_2_conv[0][0]        \n",
            "__________________________________________________________________________________________________\n",
            "conv3_block3_2_relu (Activation (None, 28, 28, 128)  0           conv3_block3_2_bn[0][0]          \n",
            "__________________________________________________________________________________________________\n",
            "conv3_block3_3_conv (Conv2D)    (None, 28, 28, 512)  66048       conv3_block3_2_relu[0][0]        \n",
            "__________________________________________________________________________________________________\n",
            "conv3_block3_3_bn (BatchNormali (None, 28, 28, 512)  2048        conv3_block3_3_conv[0][0]        \n",
            "__________________________________________________________________________________________________\n",
            "conv3_block3_add (Add)          (None, 28, 28, 512)  0           conv3_block2_out[0][0]           \n",
            "                                                                 conv3_block3_3_bn[0][0]          \n",
            "__________________________________________________________________________________________________\n",
            "conv3_block3_out (Activation)   (None, 28, 28, 512)  0           conv3_block3_add[0][0]           \n",
            "__________________________________________________________________________________________________\n",
            "conv3_block4_1_conv (Conv2D)    (None, 28, 28, 128)  65664       conv3_block3_out[0][0]           \n",
            "__________________________________________________________________________________________________\n",
            "conv3_block4_1_bn (BatchNormali (None, 28, 28, 128)  512         conv3_block4_1_conv[0][0]        \n",
            "__________________________________________________________________________________________________\n",
            "conv3_block4_1_relu (Activation (None, 28, 28, 128)  0           conv3_block4_1_bn[0][0]          \n",
            "__________________________________________________________________________________________________\n",
            "conv3_block4_2_conv (Conv2D)    (None, 28, 28, 128)  147584      conv3_block4_1_relu[0][0]        \n",
            "__________________________________________________________________________________________________\n",
            "conv3_block4_2_bn (BatchNormali (None, 28, 28, 128)  512         conv3_block4_2_conv[0][0]        \n",
            "__________________________________________________________________________________________________\n",
            "conv3_block4_2_relu (Activation (None, 28, 28, 128)  0           conv3_block4_2_bn[0][0]          \n",
            "__________________________________________________________________________________________________\n",
            "conv3_block4_3_conv (Conv2D)    (None, 28, 28, 512)  66048       conv3_block4_2_relu[0][0]        \n",
            "__________________________________________________________________________________________________\n",
            "conv3_block4_3_bn (BatchNormali (None, 28, 28, 512)  2048        conv3_block4_3_conv[0][0]        \n",
            "__________________________________________________________________________________________________\n",
            "conv3_block4_add (Add)          (None, 28, 28, 512)  0           conv3_block3_out[0][0]           \n",
            "                                                                 conv3_block4_3_bn[0][0]          \n",
            "__________________________________________________________________________________________________\n",
            "conv3_block4_out (Activation)   (None, 28, 28, 512)  0           conv3_block4_add[0][0]           \n",
            "__________________________________________________________________________________________________\n",
            "conv4_block1_1_conv (Conv2D)    (None, 14, 14, 256)  131328      conv3_block4_out[0][0]           \n",
            "__________________________________________________________________________________________________\n",
            "conv4_block1_1_bn (BatchNormali (None, 14, 14, 256)  1024        conv4_block1_1_conv[0][0]        \n",
            "__________________________________________________________________________________________________\n",
            "conv4_block1_1_relu (Activation (None, 14, 14, 256)  0           conv4_block1_1_bn[0][0]          \n",
            "__________________________________________________________________________________________________\n",
            "conv4_block1_2_conv (Conv2D)    (None, 14, 14, 256)  590080      conv4_block1_1_relu[0][0]        \n",
            "__________________________________________________________________________________________________\n",
            "conv4_block1_2_bn (BatchNormali (None, 14, 14, 256)  1024        conv4_block1_2_conv[0][0]        \n",
            "__________________________________________________________________________________________________\n",
            "conv4_block1_2_relu (Activation (None, 14, 14, 256)  0           conv4_block1_2_bn[0][0]          \n",
            "__________________________________________________________________________________________________\n",
            "conv4_block1_0_conv (Conv2D)    (None, 14, 14, 1024) 525312      conv3_block4_out[0][0]           \n",
            "__________________________________________________________________________________________________\n",
            "conv4_block1_3_conv (Conv2D)    (None, 14, 14, 1024) 263168      conv4_block1_2_relu[0][0]        \n",
            "__________________________________________________________________________________________________\n",
            "conv4_block1_0_bn (BatchNormali (None, 14, 14, 1024) 4096        conv4_block1_0_conv[0][0]        \n",
            "__________________________________________________________________________________________________\n",
            "conv4_block1_3_bn (BatchNormali (None, 14, 14, 1024) 4096        conv4_block1_3_conv[0][0]        \n",
            "__________________________________________________________________________________________________\n",
            "conv4_block1_add (Add)          (None, 14, 14, 1024) 0           conv4_block1_0_bn[0][0]          \n",
            "                                                                 conv4_block1_3_bn[0][0]          \n",
            "__________________________________________________________________________________________________\n",
            "conv4_block1_out (Activation)   (None, 14, 14, 1024) 0           conv4_block1_add[0][0]           \n",
            "__________________________________________________________________________________________________\n",
            "conv4_block2_1_conv (Conv2D)    (None, 14, 14, 256)  262400      conv4_block1_out[0][0]           \n",
            "__________________________________________________________________________________________________\n",
            "conv4_block2_1_bn (BatchNormali (None, 14, 14, 256)  1024        conv4_block2_1_conv[0][0]        \n",
            "__________________________________________________________________________________________________\n",
            "conv4_block2_1_relu (Activation (None, 14, 14, 256)  0           conv4_block2_1_bn[0][0]          \n",
            "__________________________________________________________________________________________________\n",
            "conv4_block2_2_conv (Conv2D)    (None, 14, 14, 256)  590080      conv4_block2_1_relu[0][0]        \n",
            "__________________________________________________________________________________________________\n",
            "conv4_block2_2_bn (BatchNormali (None, 14, 14, 256)  1024        conv4_block2_2_conv[0][0]        \n",
            "__________________________________________________________________________________________________\n",
            "conv4_block2_2_relu (Activation (None, 14, 14, 256)  0           conv4_block2_2_bn[0][0]          \n",
            "__________________________________________________________________________________________________\n",
            "conv4_block2_3_conv (Conv2D)    (None, 14, 14, 1024) 263168      conv4_block2_2_relu[0][0]        \n",
            "__________________________________________________________________________________________________\n",
            "conv4_block2_3_bn (BatchNormali (None, 14, 14, 1024) 4096        conv4_block2_3_conv[0][0]        \n",
            "__________________________________________________________________________________________________\n",
            "conv4_block2_add (Add)          (None, 14, 14, 1024) 0           conv4_block1_out[0][0]           \n",
            "                                                                 conv4_block2_3_bn[0][0]          \n",
            "__________________________________________________________________________________________________\n",
            "conv4_block2_out (Activation)   (None, 14, 14, 1024) 0           conv4_block2_add[0][0]           \n",
            "__________________________________________________________________________________________________\n",
            "conv4_block3_1_conv (Conv2D)    (None, 14, 14, 256)  262400      conv4_block2_out[0][0]           \n",
            "__________________________________________________________________________________________________\n",
            "conv4_block3_1_bn (BatchNormali (None, 14, 14, 256)  1024        conv4_block3_1_conv[0][0]        \n",
            "__________________________________________________________________________________________________\n",
            "conv4_block3_1_relu (Activation (None, 14, 14, 256)  0           conv4_block3_1_bn[0][0]          \n",
            "__________________________________________________________________________________________________\n",
            "conv4_block3_2_conv (Conv2D)    (None, 14, 14, 256)  590080      conv4_block3_1_relu[0][0]        \n",
            "__________________________________________________________________________________________________\n",
            "conv4_block3_2_bn (BatchNormali (None, 14, 14, 256)  1024        conv4_block3_2_conv[0][0]        \n",
            "__________________________________________________________________________________________________\n",
            "conv4_block3_2_relu (Activation (None, 14, 14, 256)  0           conv4_block3_2_bn[0][0]          \n",
            "__________________________________________________________________________________________________\n",
            "conv4_block3_3_conv (Conv2D)    (None, 14, 14, 1024) 263168      conv4_block3_2_relu[0][0]        \n",
            "__________________________________________________________________________________________________\n",
            "conv4_block3_3_bn (BatchNormali (None, 14, 14, 1024) 4096        conv4_block3_3_conv[0][0]        \n",
            "__________________________________________________________________________________________________\n",
            "conv4_block3_add (Add)          (None, 14, 14, 1024) 0           conv4_block2_out[0][0]           \n",
            "                                                                 conv4_block3_3_bn[0][0]          \n",
            "__________________________________________________________________________________________________\n",
            "conv4_block3_out (Activation)   (None, 14, 14, 1024) 0           conv4_block3_add[0][0]           \n",
            "__________________________________________________________________________________________________\n",
            "conv4_block4_1_conv (Conv2D)    (None, 14, 14, 256)  262400      conv4_block3_out[0][0]           \n",
            "__________________________________________________________________________________________________\n",
            "conv4_block4_1_bn (BatchNormali (None, 14, 14, 256)  1024        conv4_block4_1_conv[0][0]        \n",
            "__________________________________________________________________________________________________\n",
            "conv4_block4_1_relu (Activation (None, 14, 14, 256)  0           conv4_block4_1_bn[0][0]          \n",
            "__________________________________________________________________________________________________\n",
            "conv4_block4_2_conv (Conv2D)    (None, 14, 14, 256)  590080      conv4_block4_1_relu[0][0]        \n",
            "__________________________________________________________________________________________________\n",
            "conv4_block4_2_bn (BatchNormali (None, 14, 14, 256)  1024        conv4_block4_2_conv[0][0]        \n",
            "__________________________________________________________________________________________________\n",
            "conv4_block4_2_relu (Activation (None, 14, 14, 256)  0           conv4_block4_2_bn[0][0]          \n",
            "__________________________________________________________________________________________________\n",
            "conv4_block4_3_conv (Conv2D)    (None, 14, 14, 1024) 263168      conv4_block4_2_relu[0][0]        \n",
            "__________________________________________________________________________________________________\n",
            "conv4_block4_3_bn (BatchNormali (None, 14, 14, 1024) 4096        conv4_block4_3_conv[0][0]        \n",
            "__________________________________________________________________________________________________\n",
            "conv4_block4_add (Add)          (None, 14, 14, 1024) 0           conv4_block3_out[0][0]           \n",
            "                                                                 conv4_block4_3_bn[0][0]          \n",
            "__________________________________________________________________________________________________\n",
            "conv4_block4_out (Activation)   (None, 14, 14, 1024) 0           conv4_block4_add[0][0]           \n",
            "__________________________________________________________________________________________________\n",
            "conv4_block5_1_conv (Conv2D)    (None, 14, 14, 256)  262400      conv4_block4_out[0][0]           \n",
            "__________________________________________________________________________________________________\n",
            "conv4_block5_1_bn (BatchNormali (None, 14, 14, 256)  1024        conv4_block5_1_conv[0][0]        \n",
            "__________________________________________________________________________________________________\n",
            "conv4_block5_1_relu (Activation (None, 14, 14, 256)  0           conv4_block5_1_bn[0][0]          \n",
            "__________________________________________________________________________________________________\n",
            "conv4_block5_2_conv (Conv2D)    (None, 14, 14, 256)  590080      conv4_block5_1_relu[0][0]        \n",
            "__________________________________________________________________________________________________\n",
            "conv4_block5_2_bn (BatchNormali (None, 14, 14, 256)  1024        conv4_block5_2_conv[0][0]        \n",
            "__________________________________________________________________________________________________\n",
            "conv4_block5_2_relu (Activation (None, 14, 14, 256)  0           conv4_block5_2_bn[0][0]          \n",
            "__________________________________________________________________________________________________\n",
            "conv4_block5_3_conv (Conv2D)    (None, 14, 14, 1024) 263168      conv4_block5_2_relu[0][0]        \n",
            "__________________________________________________________________________________________________\n",
            "conv4_block5_3_bn (BatchNormali (None, 14, 14, 1024) 4096        conv4_block5_3_conv[0][0]        \n",
            "__________________________________________________________________________________________________\n",
            "conv4_block5_add (Add)          (None, 14, 14, 1024) 0           conv4_block4_out[0][0]           \n",
            "                                                                 conv4_block5_3_bn[0][0]          \n",
            "__________________________________________________________________________________________________\n",
            "conv4_block5_out (Activation)   (None, 14, 14, 1024) 0           conv4_block5_add[0][0]           \n",
            "__________________________________________________________________________________________________\n",
            "conv4_block6_1_conv (Conv2D)    (None, 14, 14, 256)  262400      conv4_block5_out[0][0]           \n",
            "__________________________________________________________________________________________________\n",
            "conv4_block6_1_bn (BatchNormali (None, 14, 14, 256)  1024        conv4_block6_1_conv[0][0]        \n",
            "__________________________________________________________________________________________________\n",
            "conv4_block6_1_relu (Activation (None, 14, 14, 256)  0           conv4_block6_1_bn[0][0]          \n",
            "__________________________________________________________________________________________________\n",
            "conv4_block6_2_conv (Conv2D)    (None, 14, 14, 256)  590080      conv4_block6_1_relu[0][0]        \n",
            "__________________________________________________________________________________________________\n",
            "conv4_block6_2_bn (BatchNormali (None, 14, 14, 256)  1024        conv4_block6_2_conv[0][0]        \n",
            "__________________________________________________________________________________________________\n",
            "conv4_block6_2_relu (Activation (None, 14, 14, 256)  0           conv4_block6_2_bn[0][0]          \n",
            "__________________________________________________________________________________________________\n",
            "conv4_block6_3_conv (Conv2D)    (None, 14, 14, 1024) 263168      conv4_block6_2_relu[0][0]        \n",
            "__________________________________________________________________________________________________\n",
            "conv4_block6_3_bn (BatchNormali (None, 14, 14, 1024) 4096        conv4_block6_3_conv[0][0]        \n",
            "__________________________________________________________________________________________________\n",
            "conv4_block6_add (Add)          (None, 14, 14, 1024) 0           conv4_block5_out[0][0]           \n",
            "                                                                 conv4_block6_3_bn[0][0]          \n",
            "__________________________________________________________________________________________________\n",
            "conv4_block6_out (Activation)   (None, 14, 14, 1024) 0           conv4_block6_add[0][0]           \n",
            "__________________________________________________________________________________________________\n",
            "conv5_block1_1_conv (Conv2D)    (None, 7, 7, 512)    524800      conv4_block6_out[0][0]           \n",
            "__________________________________________________________________________________________________\n",
            "conv5_block1_1_bn (BatchNormali (None, 7, 7, 512)    2048        conv5_block1_1_conv[0][0]        \n",
            "__________________________________________________________________________________________________\n",
            "conv5_block1_1_relu (Activation (None, 7, 7, 512)    0           conv5_block1_1_bn[0][0]          \n",
            "__________________________________________________________________________________________________\n",
            "conv5_block1_2_conv (Conv2D)    (None, 7, 7, 512)    2359808     conv5_block1_1_relu[0][0]        \n",
            "__________________________________________________________________________________________________\n",
            "conv5_block1_2_bn (BatchNormali (None, 7, 7, 512)    2048        conv5_block1_2_conv[0][0]        \n",
            "__________________________________________________________________________________________________\n",
            "conv5_block1_2_relu (Activation (None, 7, 7, 512)    0           conv5_block1_2_bn[0][0]          \n",
            "__________________________________________________________________________________________________\n",
            "conv5_block1_0_conv (Conv2D)    (None, 7, 7, 2048)   2099200     conv4_block6_out[0][0]           \n",
            "__________________________________________________________________________________________________\n",
            "conv5_block1_3_conv (Conv2D)    (None, 7, 7, 2048)   1050624     conv5_block1_2_relu[0][0]        \n",
            "__________________________________________________________________________________________________\n",
            "conv5_block1_0_bn (BatchNormali (None, 7, 7, 2048)   8192        conv5_block1_0_conv[0][0]        \n",
            "__________________________________________________________________________________________________\n",
            "conv5_block1_3_bn (BatchNormali (None, 7, 7, 2048)   8192        conv5_block1_3_conv[0][0]        \n",
            "__________________________________________________________________________________________________\n",
            "conv5_block1_add (Add)          (None, 7, 7, 2048)   0           conv5_block1_0_bn[0][0]          \n",
            "                                                                 conv5_block1_3_bn[0][0]          \n",
            "__________________________________________________________________________________________________\n",
            "conv5_block1_out (Activation)   (None, 7, 7, 2048)   0           conv5_block1_add[0][0]           \n",
            "__________________________________________________________________________________________________\n",
            "conv5_block2_1_conv (Conv2D)    (None, 7, 7, 512)    1049088     conv5_block1_out[0][0]           \n",
            "__________________________________________________________________________________________________\n",
            "conv5_block2_1_bn (BatchNormali (None, 7, 7, 512)    2048        conv5_block2_1_conv[0][0]        \n",
            "__________________________________________________________________________________________________\n",
            "conv5_block2_1_relu (Activation (None, 7, 7, 512)    0           conv5_block2_1_bn[0][0]          \n",
            "__________________________________________________________________________________________________\n",
            "conv5_block2_2_conv (Conv2D)    (None, 7, 7, 512)    2359808     conv5_block2_1_relu[0][0]        \n",
            "__________________________________________________________________________________________________\n",
            "conv5_block2_2_bn (BatchNormali (None, 7, 7, 512)    2048        conv5_block2_2_conv[0][0]        \n",
            "__________________________________________________________________________________________________\n",
            "conv5_block2_2_relu (Activation (None, 7, 7, 512)    0           conv5_block2_2_bn[0][0]          \n",
            "__________________________________________________________________________________________________\n",
            "conv5_block2_3_conv (Conv2D)    (None, 7, 7, 2048)   1050624     conv5_block2_2_relu[0][0]        \n",
            "__________________________________________________________________________________________________\n",
            "conv5_block2_3_bn (BatchNormali (None, 7, 7, 2048)   8192        conv5_block2_3_conv[0][0]        \n",
            "__________________________________________________________________________________________________\n",
            "conv5_block2_add (Add)          (None, 7, 7, 2048)   0           conv5_block1_out[0][0]           \n",
            "                                                                 conv5_block2_3_bn[0][0]          \n",
            "__________________________________________________________________________________________________\n",
            "conv5_block2_out (Activation)   (None, 7, 7, 2048)   0           conv5_block2_add[0][0]           \n",
            "__________________________________________________________________________________________________\n",
            "conv5_block3_1_conv (Conv2D)    (None, 7, 7, 512)    1049088     conv5_block2_out[0][0]           \n",
            "__________________________________________________________________________________________________\n",
            "conv5_block3_1_bn (BatchNormali (None, 7, 7, 512)    2048        conv5_block3_1_conv[0][0]        \n",
            "__________________________________________________________________________________________________\n",
            "conv5_block3_1_relu (Activation (None, 7, 7, 512)    0           conv5_block3_1_bn[0][0]          \n",
            "__________________________________________________________________________________________________\n",
            "conv5_block3_2_conv (Conv2D)    (None, 7, 7, 512)    2359808     conv5_block3_1_relu[0][0]        \n",
            "__________________________________________________________________________________________________\n",
            "conv5_block3_2_bn (BatchNormali (None, 7, 7, 512)    2048        conv5_block3_2_conv[0][0]        \n",
            "__________________________________________________________________________________________________\n",
            "conv5_block3_2_relu (Activation (None, 7, 7, 512)    0           conv5_block3_2_bn[0][0]          \n",
            "__________________________________________________________________________________________________\n",
            "conv5_block3_3_conv (Conv2D)    (None, 7, 7, 2048)   1050624     conv5_block3_2_relu[0][0]        \n",
            "__________________________________________________________________________________________________\n",
            "conv5_block3_3_bn (BatchNormali (None, 7, 7, 2048)   8192        conv5_block3_3_conv[0][0]        \n",
            "__________________________________________________________________________________________________\n",
            "conv5_block3_add (Add)          (None, 7, 7, 2048)   0           conv5_block2_out[0][0]           \n",
            "                                                                 conv5_block3_3_bn[0][0]          \n",
            "__________________________________________________________________________________________________\n",
            "conv5_block3_out (Activation)   (None, 7, 7, 2048)   0           conv5_block3_add[0][0]           \n",
            "__________________________________________________________________________________________________\n",
            "flatten (Flatten)               (None, 100352)       0           conv5_block3_out[0][0]           \n",
            "__________________________________________________________________________________________________\n",
            "dense (Dense)                   (None, 3)            301059      flatten[0][0]                    \n",
            "==================================================================================================\n",
            "Total params: 23,888,771\n",
            "Trainable params: 301,059\n",
            "Non-trainable params: 23,587,712\n",
            "__________________________________________________________________________________________________\n"
          ],
          "name": "stdout"
        }
      ]
    },
    {
      "cell_type": "code",
      "metadata": {
        "id": "2L3p_lndFfdb"
      },
      "source": [
        "model.compile( loss = \"categorical_crossentropy\", optimizer= \"adam\", metrics= ['accuracy'])"
      ],
      "execution_count": 126,
      "outputs": []
    },
    {
      "cell_type": "markdown",
      "metadata": {
        "id": "KzlTAO-xHeBX"
      },
      "source": [
        "**Data augmentation in data analysis are techniques used to increase the amount of data by adding slightly modified copies of already existing data or newly created synthetic data from existing data. It acts as a regularizer and helps reduce overfitting when training a machine learning model.**"
      ]
    },
    {
      "cell_type": "code",
      "metadata": {
        "id": "qJHE-MtAHKrw"
      },
      "source": [
        "# Using Image Data Generator to import the images from the dataset and applying\n",
        "# augmentation technique to the images.\n",
        "\n",
        "\n",
        "train_dataug = ImageDataGenerator(rescale = 1./255,\n",
        "                                shear_range = 0.2,\n",
        "                                zoom_range = 0.2,\n",
        "                                horizontal_flip = True)\n",
        "\n",
        "test_datan =  ImageDataGenerator(rescale= 1./255)"
      ],
      "execution_count": 125,
      "outputs": []
    },
    {
      "cell_type": "code",
      "metadata": {
        "colab": {
          "base_uri": "https://localhost:8080/"
        },
        "id": "Qyr4MPolJfML",
        "outputId": "3663c70f-c0f8-4ad7-a832-abc1a654e4fb"
      },
      "source": [
        "# preparing the training set with batch size as 32.  /content/Datasets/Datasets\n",
        "# we have to make sure that the target size have to be same as initialized for the image size.\n",
        "\n",
        "training_data = train_dataug.flow_from_directory('/content/Datasets/Datasets/Train',\n",
        "                                                target_size = (224, 224), # here we make sure that\n",
        "                                                                          # target size is same as initialized \n",
        "                                                batch_size = 32,\n",
        "                                                class_mode = 'categorical')"
      ],
      "execution_count": 127,
      "outputs": [
        {
          "output_type": "stream",
          "text": [
            "Found 64 images belonging to 3 classes.\n"
          ],
          "name": "stdout"
        }
      ]
    },
    {
      "cell_type": "code",
      "metadata": {
        "colab": {
          "base_uri": "https://localhost:8080/"
        },
        "id": "pfnDdd4LL9YH",
        "outputId": "de820f10-b6da-44cf-96f2-47a57fff2643"
      },
      "source": [
        "print(training_data.classes)"
      ],
      "execution_count": 128,
      "outputs": [
        {
          "output_type": "stream",
          "text": [
            "[0 0 0 0 0 0 0 0 0 0 0 0 0 0 0 0 0 0 0 0 1 1 1 1 1 1 1 1 1 1 1 1 1 1 1 1 1\n",
            " 1 1 2 2 2 2 2 2 2 2 2 2 2 2 2 2 2 2 2 2 2 2 2 2 2 2 2]\n"
          ],
          "name": "stdout"
        }
      ]
    },
    {
      "cell_type": "code",
      "metadata": {
        "colab": {
          "base_uri": "https://localhost:8080/"
        },
        "id": "8CnsK_jDM2Pe",
        "outputId": "2d484d92-e680-44ab-a58b-fe7345d76425"
      },
      "source": [
        "print(len(training_data.classes))"
      ],
      "execution_count": 129,
      "outputs": [
        {
          "output_type": "stream",
          "text": [
            "64\n"
          ],
          "name": "stdout"
        }
      ]
    },
    {
      "cell_type": "code",
      "metadata": {
        "colab": {
          "base_uri": "https://localhost:8080/"
        },
        "id": "WXfH1aUKNQ8A",
        "outputId": "5f070e66-b1df-4621-9cdd-87d22d5f150b"
      },
      "source": [
        "testing_data = test_datan.flow_from_directory('/content/Datasets/Datasets/Test',\n",
        "                                          target_size = (224,224),\n",
        "                                          batch_size = 32,\n",
        "                                          class_mode = 'categorical')"
      ],
      "execution_count": 130,
      "outputs": [
        {
          "output_type": "stream",
          "text": [
            "Found 58 images belonging to 3 classes.\n"
          ],
          "name": "stdout"
        }
      ]
    },
    {
      "cell_type": "code",
      "metadata": {
        "colab": {
          "base_uri": "https://localhost:8080/"
        },
        "id": "5GYitwmCOcsb",
        "outputId": "f15e50ff-5544-4635-f2ba-9411d7aca954"
      },
      "source": [
        "print(testing_data.classes)"
      ],
      "execution_count": 131,
      "outputs": [
        {
          "output_type": "stream",
          "text": [
            "[0 0 0 0 0 0 0 0 0 1 1 1 1 1 1 1 1 1 1 1 1 1 1 1 1 1 1 1 1 1 1 1 1 1 1 1 1\n",
            " 1 1 2 2 2 2 2 2 2 2 2 2 2 2 2 2 2 2 2 2 2]\n"
          ],
          "name": "stdout"
        }
      ]
    },
    {
      "cell_type": "code",
      "metadata": {
        "colab": {
          "base_uri": "https://localhost:8080/"
        },
        "id": "oxiCmLcnOmBa",
        "outputId": "76af4c90-e662-42f0-81a9-3dc35c76ab1c"
      },
      "source": [
        "print(len(testing_data.classes))"
      ],
      "execution_count": 132,
      "outputs": [
        {
          "output_type": "stream",
          "text": [
            "58\n"
          ],
          "name": "stdout"
        }
      ]
    },
    {
      "cell_type": "code",
      "metadata": {
        "colab": {
          "base_uri": "https://localhost:8080/"
        },
        "id": "TUoQBzapOop3",
        "outputId": "cd8f1642-a7e0-4f30-99c5-249215586ef0"
      },
      "source": [
        "# Now, fit the model.\n",
        "\n",
        "r = model.fit_generator(\n",
        "    training_data,\n",
        "    validation_data = testing_data,\n",
        "    epochs = 200,\n",
        "    steps_per_epoch = len(training_data),\n",
        "    validation_steps = len(testing_data)\n",
        ")"
      ],
      "execution_count": 133,
      "outputs": [
        {
          "output_type": "stream",
          "text": [
            "/usr/local/lib/python3.7/dist-packages/tensorflow/python/keras/engine/training.py:1940: UserWarning: `Model.fit_generator` is deprecated and will be removed in a future version. Please use `Model.fit`, which supports generators.\n",
            "  warnings.warn('`Model.fit_generator` is deprecated and '\n"
          ],
          "name": "stderr"
        },
        {
          "output_type": "stream",
          "text": [
            "Epoch 1/200\n",
            "2/2 [==============================] - 76s 11s/step - loss: 6.5049 - accuracy: 0.2188 - val_loss: 4.1742 - val_accuracy: 0.5172\n",
            "Epoch 2/200\n",
            "2/2 [==============================] - 14s 10s/step - loss: 6.8230 - accuracy: 0.5156 - val_loss: 1.8044 - val_accuracy: 0.3621\n",
            "Epoch 3/200\n",
            "2/2 [==============================] - 14s 10s/step - loss: 2.3270 - accuracy: 0.4531 - val_loss: 6.7085 - val_accuracy: 0.1552\n",
            "Epoch 4/200\n",
            "2/2 [==============================] - 14s 10s/step - loss: 5.1974 - accuracy: 0.3281 - val_loss: 3.1409 - val_accuracy: 0.5172\n",
            "Epoch 5/200\n",
            "2/2 [==============================] - 14s 10s/step - loss: 2.7132 - accuracy: 0.3906 - val_loss: 3.4071 - val_accuracy: 0.3276\n",
            "Epoch 6/200\n",
            "2/2 [==============================] - 14s 10s/step - loss: 3.4354 - accuracy: 0.3906 - val_loss: 3.6259 - val_accuracy: 0.3276\n",
            "Epoch 7/200\n",
            "2/2 [==============================] - 14s 10s/step - loss: 2.0112 - accuracy: 0.5156 - val_loss: 2.8635 - val_accuracy: 0.1724\n",
            "Epoch 8/200\n",
            "2/2 [==============================] - 14s 10s/step - loss: 2.2323 - accuracy: 0.4844 - val_loss: 3.1069 - val_accuracy: 0.5172\n",
            "Epoch 9/200\n",
            "2/2 [==============================] - 14s 10s/step - loss: 2.5520 - accuracy: 0.4688 - val_loss: 0.9796 - val_accuracy: 0.6207\n",
            "Epoch 10/200\n",
            "2/2 [==============================] - 14s 10s/step - loss: 1.1052 - accuracy: 0.5156 - val_loss: 3.1463 - val_accuracy: 0.3621\n",
            "Epoch 11/200\n",
            "2/2 [==============================] - 14s 10s/step - loss: 1.6513 - accuracy: 0.5938 - val_loss: 2.3672 - val_accuracy: 0.2586\n",
            "Epoch 12/200\n",
            "2/2 [==============================] - 14s 10s/step - loss: 1.0467 - accuracy: 0.5781 - val_loss: 1.1366 - val_accuracy: 0.6034\n",
            "Epoch 13/200\n",
            "2/2 [==============================] - 14s 10s/step - loss: 1.0539 - accuracy: 0.6562 - val_loss: 1.3650 - val_accuracy: 0.5690\n",
            "Epoch 14/200\n",
            "2/2 [==============================] - 14s 10s/step - loss: 1.2257 - accuracy: 0.5781 - val_loss: 1.5306 - val_accuracy: 0.4483\n",
            "Epoch 15/200\n",
            "2/2 [==============================] - 14s 10s/step - loss: 0.7368 - accuracy: 0.6250 - val_loss: 1.5677 - val_accuracy: 0.3621\n",
            "Epoch 16/200\n",
            "2/2 [==============================] - 14s 10s/step - loss: 0.9743 - accuracy: 0.6094 - val_loss: 0.9755 - val_accuracy: 0.6034\n",
            "Epoch 17/200\n",
            "2/2 [==============================] - 14s 10s/step - loss: 0.7299 - accuracy: 0.6406 - val_loss: 1.1908 - val_accuracy: 0.5862\n",
            "Epoch 18/200\n",
            "2/2 [==============================] - 14s 10s/step - loss: 0.8011 - accuracy: 0.6875 - val_loss: 1.0914 - val_accuracy: 0.5690\n",
            "Epoch 19/200\n",
            "2/2 [==============================] - 14s 10s/step - loss: 0.5252 - accuracy: 0.7188 - val_loss: 1.2440 - val_accuracy: 0.5000\n",
            "Epoch 20/200\n",
            "2/2 [==============================] - 14s 10s/step - loss: 0.7190 - accuracy: 0.6406 - val_loss: 0.8539 - val_accuracy: 0.6379\n",
            "Epoch 21/200\n",
            "2/2 [==============================] - 14s 10s/step - loss: 0.4769 - accuracy: 0.7812 - val_loss: 1.0739 - val_accuracy: 0.6724\n",
            "Epoch 22/200\n",
            "2/2 [==============================] - 14s 10s/step - loss: 0.6231 - accuracy: 0.7188 - val_loss: 0.8863 - val_accuracy: 0.6897\n",
            "Epoch 23/200\n",
            "2/2 [==============================] - 14s 10s/step - loss: 0.4108 - accuracy: 0.8281 - val_loss: 1.0034 - val_accuracy: 0.5862\n",
            "Epoch 24/200\n",
            "2/2 [==============================] - 14s 10s/step - loss: 0.5315 - accuracy: 0.7656 - val_loss: 0.8210 - val_accuracy: 0.6897\n",
            "Epoch 25/200\n",
            "2/2 [==============================] - 14s 10s/step - loss: 0.3721 - accuracy: 0.8438 - val_loss: 1.0288 - val_accuracy: 0.6207\n",
            "Epoch 26/200\n",
            "2/2 [==============================] - 14s 10s/step - loss: 0.4074 - accuracy: 0.8125 - val_loss: 0.8144 - val_accuracy: 0.7069\n",
            "Epoch 27/200\n",
            "2/2 [==============================] - 14s 10s/step - loss: 0.3768 - accuracy: 0.8125 - val_loss: 0.8566 - val_accuracy: 0.6724\n",
            "Epoch 28/200\n",
            "2/2 [==============================] - 14s 10s/step - loss: 0.3420 - accuracy: 0.8750 - val_loss: 0.9052 - val_accuracy: 0.6897\n",
            "Epoch 29/200\n",
            "2/2 [==============================] - 14s 10s/step - loss: 0.3494 - accuracy: 0.8281 - val_loss: 0.8196 - val_accuracy: 0.7069\n",
            "Epoch 30/200\n",
            "2/2 [==============================] - 14s 10s/step - loss: 0.2878 - accuracy: 0.9219 - val_loss: 0.8064 - val_accuracy: 0.7241\n",
            "Epoch 31/200\n",
            "2/2 [==============================] - 14s 10s/step - loss: 0.2815 - accuracy: 0.9219 - val_loss: 0.8807 - val_accuracy: 0.6552\n",
            "Epoch 32/200\n",
            "2/2 [==============================] - 14s 10s/step - loss: 0.2652 - accuracy: 0.9219 - val_loss: 0.8337 - val_accuracy: 0.6897\n",
            "Epoch 33/200\n",
            "2/2 [==============================] - 14s 10s/step - loss: 0.2491 - accuracy: 0.9375 - val_loss: 0.7997 - val_accuracy: 0.7931\n",
            "Epoch 34/200\n",
            "2/2 [==============================] - 14s 10s/step - loss: 0.3710 - accuracy: 0.8281 - val_loss: 0.8428 - val_accuracy: 0.6897\n",
            "Epoch 35/200\n",
            "2/2 [==============================] - 14s 10s/step - loss: 0.3062 - accuracy: 0.9062 - val_loss: 0.9027 - val_accuracy: 0.6897\n",
            "Epoch 36/200\n",
            "2/2 [==============================] - 14s 10s/step - loss: 0.2534 - accuracy: 0.9531 - val_loss: 0.8217 - val_accuracy: 0.7414\n",
            "Epoch 37/200\n",
            "2/2 [==============================] - 14s 10s/step - loss: 0.2443 - accuracy: 0.9531 - val_loss: 0.8620 - val_accuracy: 0.6897\n",
            "Epoch 38/200\n",
            "2/2 [==============================] - 14s 10s/step - loss: 0.2359 - accuracy: 0.9062 - val_loss: 0.8602 - val_accuracy: 0.6552\n",
            "Epoch 39/200\n",
            "2/2 [==============================] - 14s 10s/step - loss: 0.2415 - accuracy: 0.9531 - val_loss: 0.8336 - val_accuracy: 0.6897\n",
            "Epoch 40/200\n",
            "2/2 [==============================] - 14s 10s/step - loss: 0.2834 - accuracy: 0.9062 - val_loss: 0.8203 - val_accuracy: 0.7759\n",
            "Epoch 41/200\n",
            "2/2 [==============================] - 14s 10s/step - loss: 0.2484 - accuracy: 0.9219 - val_loss: 0.9016 - val_accuracy: 0.6379\n",
            "Epoch 42/200\n",
            "2/2 [==============================] - 14s 10s/step - loss: 0.2796 - accuracy: 0.9219 - val_loss: 0.8220 - val_accuracy: 0.7069\n",
            "Epoch 43/200\n",
            "2/2 [==============================] - 14s 10s/step - loss: 0.2459 - accuracy: 0.9062 - val_loss: 0.8374 - val_accuracy: 0.7241\n",
            "Epoch 44/200\n",
            "2/2 [==============================] - 14s 10s/step - loss: 0.2685 - accuracy: 0.9219 - val_loss: 0.8568 - val_accuracy: 0.7069\n",
            "Epoch 45/200\n",
            "2/2 [==============================] - 14s 10s/step - loss: 0.2111 - accuracy: 0.9219 - val_loss: 0.9953 - val_accuracy: 0.6207\n",
            "Epoch 46/200\n",
            "2/2 [==============================] - 14s 10s/step - loss: 0.2122 - accuracy: 0.9062 - val_loss: 0.8046 - val_accuracy: 0.7759\n",
            "Epoch 47/200\n",
            "2/2 [==============================] - 14s 10s/step - loss: 0.2384 - accuracy: 0.9219 - val_loss: 0.7996 - val_accuracy: 0.7931\n",
            "Epoch 48/200\n",
            "2/2 [==============================] - 14s 10s/step - loss: 0.2237 - accuracy: 0.9531 - val_loss: 0.8723 - val_accuracy: 0.6897\n",
            "Epoch 49/200\n",
            "2/2 [==============================] - 14s 10s/step - loss: 0.2278 - accuracy: 0.9531 - val_loss: 0.8182 - val_accuracy: 0.7931\n",
            "Epoch 50/200\n",
            "2/2 [==============================] - 14s 10s/step - loss: 0.2332 - accuracy: 0.9375 - val_loss: 0.8372 - val_accuracy: 0.7414\n",
            "Epoch 51/200\n",
            "2/2 [==============================] - 14s 10s/step - loss: 0.2021 - accuracy: 0.9688 - val_loss: 0.8576 - val_accuracy: 0.6724\n",
            "Epoch 52/200\n",
            "2/2 [==============================] - 14s 10s/step - loss: 0.1723 - accuracy: 0.9844 - val_loss: 0.8042 - val_accuracy: 0.7931\n",
            "Epoch 53/200\n",
            "2/2 [==============================] - 14s 10s/step - loss: 0.1938 - accuracy: 0.9531 - val_loss: 0.8159 - val_accuracy: 0.7931\n",
            "Epoch 54/200\n",
            "2/2 [==============================] - 14s 10s/step - loss: 0.1727 - accuracy: 0.9688 - val_loss: 0.8703 - val_accuracy: 0.6897\n",
            "Epoch 55/200\n",
            "2/2 [==============================] - 14s 10s/step - loss: 0.1725 - accuracy: 0.9688 - val_loss: 0.8216 - val_accuracy: 0.7586\n",
            "Epoch 56/200\n",
            "2/2 [==============================] - 14s 10s/step - loss: 0.2139 - accuracy: 0.9531 - val_loss: 0.8041 - val_accuracy: 0.7759\n",
            "Epoch 57/200\n",
            "2/2 [==============================] - 14s 10s/step - loss: 0.2118 - accuracy: 0.9531 - val_loss: 0.8153 - val_accuracy: 0.7586\n",
            "Epoch 58/200\n",
            "2/2 [==============================] - 14s 10s/step - loss: 0.1928 - accuracy: 0.9688 - val_loss: 0.8263 - val_accuracy: 0.7414\n",
            "Epoch 59/200\n",
            "2/2 [==============================] - 14s 10s/step - loss: 0.1715 - accuracy: 0.9531 - val_loss: 0.8321 - val_accuracy: 0.7931\n",
            "Epoch 60/200\n",
            "2/2 [==============================] - 14s 10s/step - loss: 0.1654 - accuracy: 0.9844 - val_loss: 0.8055 - val_accuracy: 0.7759\n",
            "Epoch 61/200\n",
            "2/2 [==============================] - 14s 10s/step - loss: 0.1818 - accuracy: 0.9688 - val_loss: 0.8247 - val_accuracy: 0.7414\n",
            "Epoch 62/200\n",
            "2/2 [==============================] - 14s 10s/step - loss: 0.1462 - accuracy: 0.9688 - val_loss: 0.8029 - val_accuracy: 0.7931\n",
            "Epoch 63/200\n",
            "2/2 [==============================] - 14s 10s/step - loss: 0.1844 - accuracy: 0.9531 - val_loss: 0.8370 - val_accuracy: 0.7931\n",
            "Epoch 64/200\n",
            "2/2 [==============================] - 14s 10s/step - loss: 0.1676 - accuracy: 0.9844 - val_loss: 0.8444 - val_accuracy: 0.7241\n",
            "Epoch 65/200\n",
            "2/2 [==============================] - 14s 10s/step - loss: 0.1573 - accuracy: 0.9844 - val_loss: 0.8114 - val_accuracy: 0.7759\n",
            "Epoch 66/200\n",
            "2/2 [==============================] - 14s 10s/step - loss: 0.1573 - accuracy: 1.0000 - val_loss: 0.8211 - val_accuracy: 0.7586\n",
            "Epoch 67/200\n",
            "2/2 [==============================] - 14s 10s/step - loss: 0.1644 - accuracy: 0.9844 - val_loss: 0.8203 - val_accuracy: 0.7759\n",
            "Epoch 68/200\n",
            "2/2 [==============================] - 14s 10s/step - loss: 0.1501 - accuracy: 0.9688 - val_loss: 0.8231 - val_accuracy: 0.7586\n",
            "Epoch 69/200\n",
            "2/2 [==============================] - 14s 10s/step - loss: 0.1357 - accuracy: 1.0000 - val_loss: 0.8215 - val_accuracy: 0.7759\n",
            "Epoch 70/200\n",
            "2/2 [==============================] - 14s 10s/step - loss: 0.1394 - accuracy: 1.0000 - val_loss: 0.8341 - val_accuracy: 0.7586\n",
            "Epoch 71/200\n",
            "2/2 [==============================] - 14s 10s/step - loss: 0.1575 - accuracy: 0.9688 - val_loss: 0.8410 - val_accuracy: 0.7759\n",
            "Epoch 72/200\n",
            "2/2 [==============================] - 14s 10s/step - loss: 0.1978 - accuracy: 0.9531 - val_loss: 0.8228 - val_accuracy: 0.7759\n",
            "Epoch 73/200\n",
            "2/2 [==============================] - 14s 10s/step - loss: 0.1541 - accuracy: 0.9688 - val_loss: 0.8213 - val_accuracy: 0.7759\n",
            "Epoch 74/200\n",
            "2/2 [==============================] - 14s 10s/step - loss: 0.1662 - accuracy: 0.9531 - val_loss: 0.8514 - val_accuracy: 0.7759\n",
            "Epoch 75/200\n",
            "2/2 [==============================] - 14s 10s/step - loss: 0.1438 - accuracy: 0.9844 - val_loss: 0.8228 - val_accuracy: 0.7759\n",
            "Epoch 76/200\n",
            "2/2 [==============================] - 14s 10s/step - loss: 0.1450 - accuracy: 0.9688 - val_loss: 0.8232 - val_accuracy: 0.7759\n",
            "Epoch 77/200\n",
            "2/2 [==============================] - 14s 10s/step - loss: 0.1448 - accuracy: 0.9844 - val_loss: 0.9138 - val_accuracy: 0.7241\n",
            "Epoch 78/200\n",
            "2/2 [==============================] - 14s 10s/step - loss: 0.1322 - accuracy: 1.0000 - val_loss: 0.8256 - val_accuracy: 0.7759\n",
            "Epoch 79/200\n",
            "2/2 [==============================] - 14s 10s/step - loss: 0.1400 - accuracy: 0.9844 - val_loss: 0.8284 - val_accuracy: 0.7759\n",
            "Epoch 80/200\n",
            "2/2 [==============================] - 14s 10s/step - loss: 0.1359 - accuracy: 0.9844 - val_loss: 0.8524 - val_accuracy: 0.7586\n",
            "Epoch 81/200\n",
            "2/2 [==============================] - 14s 10s/step - loss: 0.1523 - accuracy: 0.9688 - val_loss: 0.8219 - val_accuracy: 0.7931\n",
            "Epoch 82/200\n",
            "2/2 [==============================] - 14s 10s/step - loss: 0.1424 - accuracy: 0.9688 - val_loss: 0.8219 - val_accuracy: 0.7759\n",
            "Epoch 83/200\n",
            "2/2 [==============================] - 14s 10s/step - loss: 0.1058 - accuracy: 1.0000 - val_loss: 0.9051 - val_accuracy: 0.7241\n",
            "Epoch 84/200\n",
            "2/2 [==============================] - 14s 10s/step - loss: 0.1526 - accuracy: 0.9844 - val_loss: 0.8293 - val_accuracy: 0.7586\n",
            "Epoch 85/200\n",
            "2/2 [==============================] - 14s 10s/step - loss: 0.1125 - accuracy: 1.0000 - val_loss: 0.8326 - val_accuracy: 0.7759\n",
            "Epoch 86/200\n",
            "2/2 [==============================] - 14s 10s/step - loss: 0.1341 - accuracy: 0.9688 - val_loss: 0.8661 - val_accuracy: 0.7414\n",
            "Epoch 87/200\n",
            "2/2 [==============================] - 14s 10s/step - loss: 0.1326 - accuracy: 0.9531 - val_loss: 0.8485 - val_accuracy: 0.7586\n",
            "Epoch 88/200\n",
            "2/2 [==============================] - 14s 10s/step - loss: 0.1036 - accuracy: 1.0000 - val_loss: 0.8324 - val_accuracy: 0.8103\n",
            "Epoch 89/200\n",
            "2/2 [==============================] - 14s 10s/step - loss: 0.1072 - accuracy: 1.0000 - val_loss: 0.8351 - val_accuracy: 0.7586\n",
            "Epoch 90/200\n",
            "2/2 [==============================] - 14s 10s/step - loss: 0.1143 - accuracy: 1.0000 - val_loss: 0.8875 - val_accuracy: 0.7241\n",
            "Epoch 91/200\n",
            "2/2 [==============================] - 14s 10s/step - loss: 0.1042 - accuracy: 1.0000 - val_loss: 0.8407 - val_accuracy: 0.7586\n",
            "Epoch 92/200\n",
            "2/2 [==============================] - 14s 10s/step - loss: 0.1009 - accuracy: 1.0000 - val_loss: 0.8320 - val_accuracy: 0.8103\n",
            "Epoch 93/200\n",
            "2/2 [==============================] - 14s 10s/step - loss: 0.1265 - accuracy: 1.0000 - val_loss: 0.8443 - val_accuracy: 0.7586\n",
            "Epoch 94/200\n",
            "2/2 [==============================] - 14s 10s/step - loss: 0.1190 - accuracy: 1.0000 - val_loss: 0.8555 - val_accuracy: 0.7586\n",
            "Epoch 95/200\n",
            "2/2 [==============================] - 14s 10s/step - loss: 0.1223 - accuracy: 0.9688 - val_loss: 0.8402 - val_accuracy: 0.7586\n",
            "Epoch 96/200\n",
            "2/2 [==============================] - 14s 10s/step - loss: 0.1066 - accuracy: 0.9844 - val_loss: 0.8564 - val_accuracy: 0.7586\n",
            "Epoch 97/200\n",
            "2/2 [==============================] - 14s 10s/step - loss: 0.1015 - accuracy: 1.0000 - val_loss: 0.8497 - val_accuracy: 0.7586\n",
            "Epoch 98/200\n",
            "2/2 [==============================] - 14s 10s/step - loss: 0.1200 - accuracy: 0.9844 - val_loss: 0.8359 - val_accuracy: 0.7759\n",
            "Epoch 99/200\n",
            "2/2 [==============================] - 14s 10s/step - loss: 0.1150 - accuracy: 0.9844 - val_loss: 0.8593 - val_accuracy: 0.7586\n",
            "Epoch 100/200\n",
            "2/2 [==============================] - 14s 10s/step - loss: 0.0900 - accuracy: 1.0000 - val_loss: 0.9014 - val_accuracy: 0.7414\n",
            "Epoch 101/200\n",
            "2/2 [==============================] - 14s 10s/step - loss: 0.0829 - accuracy: 1.0000 - val_loss: 0.8533 - val_accuracy: 0.7759\n",
            "Epoch 102/200\n",
            "2/2 [==============================] - 14s 10s/step - loss: 0.0888 - accuracy: 1.0000 - val_loss: 0.8465 - val_accuracy: 0.8103\n",
            "Epoch 103/200\n",
            "2/2 [==============================] - 14s 10s/step - loss: 0.1186 - accuracy: 1.0000 - val_loss: 0.8894 - val_accuracy: 0.7241\n",
            "Epoch 104/200\n",
            "2/2 [==============================] - 14s 10s/step - loss: 0.1029 - accuracy: 1.0000 - val_loss: 0.8466 - val_accuracy: 0.7586\n",
            "Epoch 105/200\n",
            "2/2 [==============================] - 14s 10s/step - loss: 0.1127 - accuracy: 1.0000 - val_loss: 0.8491 - val_accuracy: 0.7931\n",
            "Epoch 106/200\n",
            "2/2 [==============================] - 14s 10s/step - loss: 0.1188 - accuracy: 0.9844 - val_loss: 0.8624 - val_accuracy: 0.7759\n",
            "Epoch 107/200\n",
            "2/2 [==============================] - 14s 10s/step - loss: 0.0861 - accuracy: 1.0000 - val_loss: 0.8492 - val_accuracy: 0.7586\n",
            "Epoch 108/200\n",
            "2/2 [==============================] - 14s 10s/step - loss: 0.0983 - accuracy: 1.0000 - val_loss: 0.8479 - val_accuracy: 0.7586\n",
            "Epoch 109/200\n",
            "2/2 [==============================] - 14s 10s/step - loss: 0.0868 - accuracy: 1.0000 - val_loss: 0.8597 - val_accuracy: 0.7759\n",
            "Epoch 110/200\n",
            "2/2 [==============================] - 14s 10s/step - loss: 0.0776 - accuracy: 1.0000 - val_loss: 0.8450 - val_accuracy: 0.7586\n",
            "Epoch 111/200\n",
            "2/2 [==============================] - 14s 10s/step - loss: 0.0847 - accuracy: 1.0000 - val_loss: 0.8617 - val_accuracy: 0.7759\n",
            "Epoch 112/200\n",
            "2/2 [==============================] - 14s 10s/step - loss: 0.0943 - accuracy: 1.0000 - val_loss: 0.8493 - val_accuracy: 0.7586\n",
            "Epoch 113/200\n",
            "2/2 [==============================] - 14s 10s/step - loss: 0.0700 - accuracy: 1.0000 - val_loss: 0.8522 - val_accuracy: 0.7586\n",
            "Epoch 114/200\n",
            "2/2 [==============================] - 14s 10s/step - loss: 0.0947 - accuracy: 1.0000 - val_loss: 0.8578 - val_accuracy: 0.7586\n",
            "Epoch 115/200\n",
            "2/2 [==============================] - 14s 10s/step - loss: 0.0957 - accuracy: 0.9844 - val_loss: 0.8586 - val_accuracy: 0.7586\n",
            "Epoch 116/200\n",
            "2/2 [==============================] - 14s 10s/step - loss: 0.0752 - accuracy: 1.0000 - val_loss: 0.8560 - val_accuracy: 0.7586\n",
            "Epoch 117/200\n",
            "2/2 [==============================] - 14s 10s/step - loss: 0.0909 - accuracy: 1.0000 - val_loss: 0.8616 - val_accuracy: 0.7586\n",
            "Epoch 118/200\n",
            "2/2 [==============================] - 14s 10s/step - loss: 0.0783 - accuracy: 1.0000 - val_loss: 0.8933 - val_accuracy: 0.7586\n",
            "Epoch 119/200\n",
            "2/2 [==============================] - 14s 10s/step - loss: 0.0902 - accuracy: 0.9844 - val_loss: 0.8589 - val_accuracy: 0.7586\n",
            "Epoch 120/200\n",
            "2/2 [==============================] - 14s 10s/step - loss: 0.0814 - accuracy: 1.0000 - val_loss: 0.8798 - val_accuracy: 0.7759\n",
            "Epoch 121/200\n",
            "2/2 [==============================] - 14s 10s/step - loss: 0.0953 - accuracy: 1.0000 - val_loss: 0.8685 - val_accuracy: 0.7759\n",
            "Epoch 122/200\n",
            "2/2 [==============================] - 14s 10s/step - loss: 0.0772 - accuracy: 1.0000 - val_loss: 0.8791 - val_accuracy: 0.7759\n",
            "Epoch 123/200\n",
            "2/2 [==============================] - 14s 10s/step - loss: 0.0746 - accuracy: 1.0000 - val_loss: 0.8646 - val_accuracy: 0.7931\n",
            "Epoch 124/200\n",
            "2/2 [==============================] - 14s 10s/step - loss: 0.0865 - accuracy: 1.0000 - val_loss: 0.8837 - val_accuracy: 0.7414\n",
            "Epoch 125/200\n",
            "2/2 [==============================] - 14s 10s/step - loss: 0.0905 - accuracy: 1.0000 - val_loss: 0.8817 - val_accuracy: 0.7586\n",
            "Epoch 126/200\n",
            "2/2 [==============================] - 14s 10s/step - loss: 0.0669 - accuracy: 1.0000 - val_loss: 0.8609 - val_accuracy: 0.7586\n",
            "Epoch 127/200\n",
            "2/2 [==============================] - 14s 10s/step - loss: 0.0985 - accuracy: 0.9844 - val_loss: 0.8677 - val_accuracy: 0.7931\n",
            "Epoch 128/200\n",
            "2/2 [==============================] - 14s 10s/step - loss: 0.0883 - accuracy: 1.0000 - val_loss: 0.8786 - val_accuracy: 0.7759\n",
            "Epoch 129/200\n",
            "2/2 [==============================] - 14s 10s/step - loss: 0.0712 - accuracy: 1.0000 - val_loss: 0.8709 - val_accuracy: 0.7586\n",
            "Epoch 130/200\n",
            "2/2 [==============================] - 14s 10s/step - loss: 0.0642 - accuracy: 1.0000 - val_loss: 0.8773 - val_accuracy: 0.7586\n",
            "Epoch 131/200\n",
            "2/2 [==============================] - 14s 10s/step - loss: 0.0624 - accuracy: 1.0000 - val_loss: 0.8748 - val_accuracy: 0.7586\n",
            "Epoch 132/200\n",
            "2/2 [==============================] - 14s 10s/step - loss: 0.0699 - accuracy: 0.9844 - val_loss: 0.8788 - val_accuracy: 0.7586\n",
            "Epoch 133/200\n",
            "2/2 [==============================] - 14s 10s/step - loss: 0.0905 - accuracy: 1.0000 - val_loss: 0.8737 - val_accuracy: 0.7586\n",
            "Epoch 134/200\n",
            "2/2 [==============================] - 14s 10s/step - loss: 0.0496 - accuracy: 1.0000 - val_loss: 0.8760 - val_accuracy: 0.7586\n",
            "Epoch 135/200\n",
            "2/2 [==============================] - 14s 10s/step - loss: 0.0647 - accuracy: 1.0000 - val_loss: 0.8992 - val_accuracy: 0.7759\n",
            "Epoch 136/200\n",
            "2/2 [==============================] - 14s 10s/step - loss: 0.0822 - accuracy: 1.0000 - val_loss: 0.8835 - val_accuracy: 0.7586\n",
            "Epoch 137/200\n",
            "2/2 [==============================] - 14s 10s/step - loss: 0.0756 - accuracy: 0.9844 - val_loss: 0.8819 - val_accuracy: 0.7586\n",
            "Epoch 138/200\n",
            "2/2 [==============================] - 14s 10s/step - loss: 0.0614 - accuracy: 1.0000 - val_loss: 0.9244 - val_accuracy: 0.7414\n",
            "Epoch 139/200\n",
            "2/2 [==============================] - 14s 10s/step - loss: 0.0591 - accuracy: 1.0000 - val_loss: 0.8966 - val_accuracy: 0.7759\n",
            "Epoch 140/200\n",
            "2/2 [==============================] - 14s 10s/step - loss: 0.0529 - accuracy: 1.0000 - val_loss: 0.8840 - val_accuracy: 0.7759\n",
            "Epoch 141/200\n",
            "2/2 [==============================] - 14s 10s/step - loss: 0.0554 - accuracy: 1.0000 - val_loss: 0.8814 - val_accuracy: 0.7759\n",
            "Epoch 142/200\n",
            "2/2 [==============================] - 14s 10s/step - loss: 0.0604 - accuracy: 1.0000 - val_loss: 0.9015 - val_accuracy: 0.7759\n",
            "Epoch 143/200\n",
            "2/2 [==============================] - 14s 10s/step - loss: 0.0820 - accuracy: 1.0000 - val_loss: 0.9093 - val_accuracy: 0.7586\n",
            "Epoch 144/200\n",
            "2/2 [==============================] - 14s 10s/step - loss: 0.0647 - accuracy: 1.0000 - val_loss: 0.8937 - val_accuracy: 0.8103\n",
            "Epoch 145/200\n",
            "2/2 [==============================] - 14s 10s/step - loss: 0.0730 - accuracy: 1.0000 - val_loss: 0.9033 - val_accuracy: 0.7759\n",
            "Epoch 146/200\n",
            "2/2 [==============================] - 14s 10s/step - loss: 0.0684 - accuracy: 1.0000 - val_loss: 0.8998 - val_accuracy: 0.7586\n",
            "Epoch 147/200\n",
            "2/2 [==============================] - 14s 10s/step - loss: 0.0548 - accuracy: 1.0000 - val_loss: 0.8950 - val_accuracy: 0.7931\n",
            "Epoch 148/200\n",
            "2/2 [==============================] - 14s 10s/step - loss: 0.0511 - accuracy: 1.0000 - val_loss: 0.8959 - val_accuracy: 0.7759\n",
            "Epoch 149/200\n",
            "2/2 [==============================] - 14s 10s/step - loss: 0.0615 - accuracy: 0.9844 - val_loss: 0.9341 - val_accuracy: 0.7586\n",
            "Epoch 150/200\n",
            "2/2 [==============================] - 14s 10s/step - loss: 0.0700 - accuracy: 1.0000 - val_loss: 0.9196 - val_accuracy: 0.7759\n",
            "Epoch 151/200\n",
            "2/2 [==============================] - 14s 10s/step - loss: 0.0768 - accuracy: 0.9844 - val_loss: 0.8998 - val_accuracy: 0.7931\n",
            "Epoch 152/200\n",
            "2/2 [==============================] - 14s 10s/step - loss: 0.0704 - accuracy: 0.9844 - val_loss: 0.8975 - val_accuracy: 0.7586\n",
            "Epoch 153/200\n",
            "2/2 [==============================] - 14s 10s/step - loss: 0.0579 - accuracy: 1.0000 - val_loss: 0.9399 - val_accuracy: 0.7586\n",
            "Epoch 154/200\n",
            "2/2 [==============================] - 14s 10s/step - loss: 0.0553 - accuracy: 1.0000 - val_loss: 0.9277 - val_accuracy: 0.7759\n",
            "Epoch 155/200\n",
            "2/2 [==============================] - 14s 10s/step - loss: 0.0619 - accuracy: 0.9844 - val_loss: 0.9060 - val_accuracy: 0.8103\n",
            "Epoch 156/200\n",
            "2/2 [==============================] - 14s 10s/step - loss: 0.0765 - accuracy: 0.9844 - val_loss: 0.9054 - val_accuracy: 0.7586\n",
            "Epoch 157/200\n",
            "2/2 [==============================] - 14s 10s/step - loss: 0.0707 - accuracy: 1.0000 - val_loss: 0.9461 - val_accuracy: 0.7414\n",
            "Epoch 158/200\n",
            "2/2 [==============================] - 14s 10s/step - loss: 0.0719 - accuracy: 1.0000 - val_loss: 0.9127 - val_accuracy: 0.7759\n",
            "Epoch 159/200\n",
            "2/2 [==============================] - 14s 10s/step - loss: 0.0520 - accuracy: 1.0000 - val_loss: 0.9377 - val_accuracy: 0.7759\n",
            "Epoch 160/200\n",
            "2/2 [==============================] - 14s 10s/step - loss: 0.0662 - accuracy: 1.0000 - val_loss: 0.8983 - val_accuracy: 0.7586\n",
            "Epoch 161/200\n",
            "2/2 [==============================] - 14s 10s/step - loss: 0.0573 - accuracy: 1.0000 - val_loss: 0.9733 - val_accuracy: 0.7414\n",
            "Epoch 162/200\n",
            "2/2 [==============================] - 14s 10s/step - loss: 0.0952 - accuracy: 0.9688 - val_loss: 0.9085 - val_accuracy: 0.7586\n",
            "Epoch 163/200\n",
            "2/2 [==============================] - 14s 10s/step - loss: 0.0517 - accuracy: 1.0000 - val_loss: 1.0062 - val_accuracy: 0.7241\n",
            "Epoch 164/200\n",
            "2/2 [==============================] - 14s 10s/step - loss: 0.0941 - accuracy: 1.0000 - val_loss: 0.9335 - val_accuracy: 0.7759\n",
            "Epoch 165/200\n",
            "2/2 [==============================] - 14s 10s/step - loss: 0.0754 - accuracy: 1.0000 - val_loss: 0.9849 - val_accuracy: 0.7414\n",
            "Epoch 166/200\n",
            "2/2 [==============================] - 14s 10s/step - loss: 0.0611 - accuracy: 0.9844 - val_loss: 0.9370 - val_accuracy: 0.7586\n",
            "Epoch 167/200\n",
            "2/2 [==============================] - 14s 10s/step - loss: 0.0843 - accuracy: 0.9844 - val_loss: 0.9338 - val_accuracy: 0.7586\n",
            "Epoch 168/200\n",
            "2/2 [==============================] - 14s 10s/step - loss: 0.0666 - accuracy: 0.9844 - val_loss: 1.0047 - val_accuracy: 0.7414\n",
            "Epoch 169/200\n",
            "2/2 [==============================] - 14s 10s/step - loss: 0.0764 - accuracy: 1.0000 - val_loss: 0.9214 - val_accuracy: 0.7586\n",
            "Epoch 170/200\n",
            "2/2 [==============================] - 14s 10s/step - loss: 0.0465 - accuracy: 1.0000 - val_loss: 0.9416 - val_accuracy: 0.7586\n",
            "Epoch 171/200\n",
            "2/2 [==============================] - 14s 10s/step - loss: 0.0721 - accuracy: 0.9688 - val_loss: 0.9399 - val_accuracy: 0.7586\n",
            "Epoch 172/200\n",
            "2/2 [==============================] - 14s 10s/step - loss: 0.0621 - accuracy: 1.0000 - val_loss: 0.9619 - val_accuracy: 0.7586\n",
            "Epoch 173/200\n",
            "2/2 [==============================] - 14s 10s/step - loss: 0.0469 - accuracy: 1.0000 - val_loss: 0.9174 - val_accuracy: 0.7586\n",
            "Epoch 174/200\n",
            "2/2 [==============================] - 14s 10s/step - loss: 0.0527 - accuracy: 1.0000 - val_loss: 0.9203 - val_accuracy: 0.7586\n",
            "Epoch 175/200\n",
            "2/2 [==============================] - 14s 10s/step - loss: 0.0532 - accuracy: 1.0000 - val_loss: 0.9373 - val_accuracy: 0.7759\n",
            "Epoch 176/200\n",
            "2/2 [==============================] - 14s 10s/step - loss: 0.0619 - accuracy: 1.0000 - val_loss: 0.9246 - val_accuracy: 0.7586\n",
            "Epoch 177/200\n",
            "2/2 [==============================] - 14s 10s/step - loss: 0.0532 - accuracy: 1.0000 - val_loss: 0.9350 - val_accuracy: 0.7931\n",
            "Epoch 178/200\n",
            "2/2 [==============================] - 14s 10s/step - loss: 0.0437 - accuracy: 1.0000 - val_loss: 0.9263 - val_accuracy: 0.7586\n",
            "Epoch 179/200\n",
            "2/2 [==============================] - 14s 10s/step - loss: 0.0422 - accuracy: 1.0000 - val_loss: 0.9976 - val_accuracy: 0.7414\n",
            "Epoch 180/200\n",
            "2/2 [==============================] - 14s 10s/step - loss: 0.0496 - accuracy: 1.0000 - val_loss: 0.9299 - val_accuracy: 0.7586\n",
            "Epoch 181/200\n",
            "2/2 [==============================] - 14s 10s/step - loss: 0.0400 - accuracy: 1.0000 - val_loss: 0.9294 - val_accuracy: 0.7759\n",
            "Epoch 182/200\n",
            "2/2 [==============================] - 14s 10s/step - loss: 0.0472 - accuracy: 1.0000 - val_loss: 0.9324 - val_accuracy: 0.7931\n",
            "Epoch 183/200\n",
            "2/2 [==============================] - 14s 10s/step - loss: 0.0433 - accuracy: 1.0000 - val_loss: 0.9326 - val_accuracy: 0.7586\n",
            "Epoch 184/200\n",
            "2/2 [==============================] - 14s 10s/step - loss: 0.0490 - accuracy: 1.0000 - val_loss: 0.9676 - val_accuracy: 0.7759\n",
            "Epoch 185/200\n",
            "2/2 [==============================] - 14s 10s/step - loss: 0.0522 - accuracy: 1.0000 - val_loss: 0.9400 - val_accuracy: 0.7586\n",
            "Epoch 186/200\n",
            "2/2 [==============================] - 14s 10s/step - loss: 0.0466 - accuracy: 1.0000 - val_loss: 0.9413 - val_accuracy: 0.7586\n",
            "Epoch 187/200\n",
            "2/2 [==============================] - 14s 10s/step - loss: 0.0438 - accuracy: 1.0000 - val_loss: 0.9321 - val_accuracy: 0.7586\n",
            "Epoch 188/200\n",
            "2/2 [==============================] - 14s 10s/step - loss: 0.0506 - accuracy: 1.0000 - val_loss: 0.9511 - val_accuracy: 0.7414\n",
            "Epoch 189/200\n",
            "2/2 [==============================] - 14s 10s/step - loss: 0.0369 - accuracy: 1.0000 - val_loss: 0.9426 - val_accuracy: 0.7586\n",
            "Epoch 190/200\n",
            "2/2 [==============================] - 14s 10s/step - loss: 0.0436 - accuracy: 1.0000 - val_loss: 0.9544 - val_accuracy: 0.7586\n",
            "Epoch 191/200\n",
            "2/2 [==============================] - 14s 10s/step - loss: 0.0574 - accuracy: 1.0000 - val_loss: 0.9357 - val_accuracy: 0.7759\n",
            "Epoch 192/200\n",
            "2/2 [==============================] - 14s 10s/step - loss: 0.0440 - accuracy: 1.0000 - val_loss: 0.9536 - val_accuracy: 0.7759\n",
            "Epoch 193/200\n",
            "2/2 [==============================] - 14s 10s/step - loss: 0.0496 - accuracy: 1.0000 - val_loss: 0.9355 - val_accuracy: 0.7586\n",
            "Epoch 194/200\n",
            "2/2 [==============================] - 14s 10s/step - loss: 0.0358 - accuracy: 1.0000 - val_loss: 0.9586 - val_accuracy: 0.7759\n",
            "Epoch 195/200\n",
            "2/2 [==============================] - 14s 10s/step - loss: 0.0514 - accuracy: 1.0000 - val_loss: 0.9421 - val_accuracy: 0.7586\n",
            "Epoch 196/200\n",
            "2/2 [==============================] - 14s 10s/step - loss: 0.0413 - accuracy: 1.0000 - val_loss: 0.9421 - val_accuracy: 0.7759\n",
            "Epoch 197/200\n",
            "2/2 [==============================] - 14s 10s/step - loss: 0.0425 - accuracy: 1.0000 - val_loss: 0.9394 - val_accuracy: 0.7586\n",
            "Epoch 198/200\n",
            "2/2 [==============================] - 14s 10s/step - loss: 0.0387 - accuracy: 1.0000 - val_loss: 0.9792 - val_accuracy: 0.7759\n",
            "Epoch 199/200\n",
            "2/2 [==============================] - 14s 10s/step - loss: 0.0490 - accuracy: 1.0000 - val_loss: 0.9629 - val_accuracy: 0.7759\n",
            "Epoch 200/200\n",
            "2/2 [==============================] - 14s 10s/step - loss: 0.0404 - accuracy: 1.0000 - val_loss: 0.9430 - val_accuracy: 0.7759\n"
          ],
          "name": "stdout"
        }
      ]
    },
    {
      "cell_type": "code",
      "metadata": {
        "colab": {
          "base_uri": "https://localhost:8080/",
          "height": 513
        },
        "id": "t-aomSLkdOXR",
        "outputId": "5995aab8-c746-4e81-922c-1504c0f1b62e"
      },
      "source": [
        "# Loss plot\n",
        "plt.plot(r.history['loss'], label = 'train loss')\n",
        "plt.plot(r.history['val_loss'], label = 'val loss')\n",
        "plt.legend()\n",
        "plt.show()\n",
        "\n",
        "# Accuracy plot\n",
        "plt.plot(r.history['accuracy'], label = 'train acc')\n",
        "plt.plot(r.history['val_accuracy'], label = 'val acc')\n",
        "plt.legend()\n",
        "plt.show()"
      ],
      "execution_count": 134,
      "outputs": [
        {
          "output_type": "display_data",
          "data": {
            "image/png": "[encoded data removed]",
            "text/plain": [
              "<Figure size 432x288 with 1 Axes>"
            ]
          },
          "metadata": {
            "tags": [],
            "needs_background": "light"
          }
        },
        {
          "output_type": "display_data",
          "data": {
            "image/png": "[encoded data removed]",
            "text/plain": [
              "<Figure size 432x288 with 1 Axes>"
            ]
          },
          "metadata": {
            "tags": [],
            "needs_background": "light"
          }
        }
      ]
    },
    {
      "cell_type": "code",
      "metadata": {
        "colab": {
          "base_uri": "https://localhost:8080/"
        },
        "id": "jsB27IaVs1wo",
        "outputId": "19dd0cb6-d7c8-490c-8598-ff3910a750cd"
      },
      "source": [
        "# save this model as a .h5 file\n",
        "from tensorflow.keras.models import load_model\n",
        "\n",
        "model.save('car_brand_model_resnet50.h5')"
      ],
      "execution_count": 135,
      "outputs": [
        {
          "output_type": "stream",
          "text": [
            "/usr/local/lib/python3.7/dist-packages/tensorflow/python/keras/utils/generic_utils.py:497: CustomMaskWarning: Custom mask layers require a config and must override get_config. When loading, the custom mask layer must be passed to the custom_objects argument.\n",
            "  category=CustomMaskWarning)\n"
          ],
          "name": "stderr"
        }
      ]
    },
    {
      "cell_type": "code",
      "metadata": {
        "id": "WHZhlwDrtexs"
      },
      "source": [
        "# prediction on test data set\n",
        "y_pred = model.predict(testing_data)"
      ],
      "execution_count": 136,
      "outputs": []
    },
    {
      "cell_type": "code",
      "metadata": {
        "colab": {
          "base_uri": "https://localhost:8080/"
        },
        "id": "XheqMmrLuDMy",
        "outputId": "80b1ddc7-2ab7-40b4-ea87-67f7b4913506"
      },
      "source": [
        "y_pred  # This is typically probabilty based on the three classes, for every image on the test data."
      ],
      "execution_count": 137,
      "outputs": [
        {
          "output_type": "execute_result",
          "data": {
            "text/plain": [
              "array([[3.74703063e-03, 8.63855705e-04, 9.95389104e-01],\n",
              "       [1.23956904e-01, 1.67528123e-01, 7.08514988e-01],\n",
              "       [9.80066299e-01, 1.56982671e-02, 4.23541293e-03],\n",
              "       [1.60421326e-03, 9.98373151e-01, 2.25833046e-05],\n",
              "       [2.21698591e-03, 5.03657937e-01, 4.94125038e-01],\n",
              "       [2.27773543e-02, 2.73434296e-02, 9.49879169e-01],\n",
              "       [9.98634517e-01, 8.77099868e-04, 4.88368445e-04],\n",
              "       [1.26186702e-02, 4.81848955e-01, 5.05532324e-01],\n",
              "       [8.25191319e-01, 7.43512288e-02, 1.00457430e-01],\n",
              "       [2.23116055e-02, 3.79230708e-01, 5.98457694e-01],\n",
              "       [7.54605904e-02, 8.93608510e-01, 3.09308730e-02],\n",
              "       [9.24670517e-01, 7.51472563e-02, 1.82213640e-04],\n",
              "       [4.71476791e-03, 9.69543874e-01, 2.57413033e-02],\n",
              "       [8.88841987e-01, 9.40446332e-02, 1.71133783e-02],\n",
              "       [1.78466405e-04, 9.99560416e-01, 2.61051318e-04],\n",
              "       [3.64056286e-05, 9.99123752e-01, 8.39826127e-04],\n",
              "       [5.46671264e-02, 4.63201880e-01, 4.82131004e-01],\n",
              "       [5.49975177e-03, 9.88637388e-01, 5.86285302e-03],\n",
              "       [3.21984850e-03, 9.62843657e-01, 3.39365676e-02],\n",
              "       [8.07356671e-04, 6.60738116e-03, 9.92585242e-01],\n",
              "       [1.51018053e-03, 7.84887850e-01, 2.13601992e-01],\n",
              "       [4.11075391e-02, 5.81049286e-02, 9.00787532e-01],\n",
              "       [1.36302039e-01, 6.61884725e-01, 2.01813206e-01],\n",
              "       [2.85002898e-04, 9.99498844e-01, 2.16147382e-04],\n",
              "       [2.16681184e-03, 9.94864047e-01, 2.96915369e-03],\n",
              "       [1.91988479e-02, 2.69641489e-01, 7.11159706e-01],\n",
              "       [8.95946287e-04, 9.95403409e-01, 3.70065821e-03],\n",
              "       [1.56491138e-02, 9.13066030e-01, 7.12848678e-02],\n",
              "       [1.06386654e-02, 9.08366740e-01, 8.09946209e-02],\n",
              "       [4.11802381e-01, 2.79004294e-02, 5.60297191e-01],\n",
              "       [8.21297895e-03, 9.66582298e-01, 2.52047684e-02],\n",
              "       [7.63547723e-05, 9.99646902e-01, 2.76651175e-04],\n",
              "       [5.34872860e-02, 2.12452770e-03, 9.44388151e-01],\n",
              "       [9.43604484e-03, 3.70096385e-01, 6.20467544e-01],\n",
              "       [3.98135418e-03, 2.57072563e-04, 9.95761573e-01],\n",
              "       [8.02329704e-02, 7.26696953e-06, 9.19759750e-01],\n",
              "       [1.87117681e-01, 7.64051914e-01, 4.88303490e-02],\n",
              "       [8.10326040e-01, 9.27553177e-02, 9.69186500e-02],\n",
              "       [7.67179579e-02, 4.01241720e-01, 5.22040308e-01],\n",
              "       [5.07996276e-07, 3.82708604e-05, 9.99961257e-01],\n",
              "       [2.24806800e-01, 6.42275751e-01, 1.32917449e-01],\n",
              "       [7.83171132e-03, 9.91152346e-01, 1.01586804e-03],\n",
              "       [1.30649228e-02, 7.79435694e-01, 2.07499444e-01],\n",
              "       [1.59545467e-04, 9.48946476e-01, 5.08940332e-02],\n",
              "       [4.45881713e-04, 9.98660564e-01, 8.93628283e-04],\n",
              "       [4.66346834e-03, 9.80731130e-01, 1.46053405e-02],\n",
              "       [1.47632910e-02, 3.59139941e-03, 9.81645346e-01],\n",
              "       [2.11703405e-01, 7.82801986e-01, 5.49457874e-03],\n",
              "       [1.41739458e-01, 1.17050414e-03, 8.57090056e-01],\n",
              "       [1.01293791e-02, 9.71023858e-01, 1.88467521e-02],\n",
              "       [9.41091061e-01, 2.50371685e-03, 5.64053170e-02],\n",
              "       [2.55057160e-02, 6.90540850e-01, 2.83953488e-01],\n",
              "       [7.04458728e-03, 9.71199095e-01, 2.17563175e-02],\n",
              "       [2.36084958e-07, 6.92498070e-05, 9.99930501e-01],\n",
              "       [9.64081466e-01, 3.15513648e-02, 4.36714198e-03],\n",
              "       [1.64458845e-02, 9.71479416e-01, 1.20747807e-02],\n",
              "       [7.48824619e-04, 9.93513703e-01, 5.73742250e-03],\n",
              "       [7.37659261e-02, 6.66276336e-01, 2.59957731e-01]], dtype=float32)"
            ]
          },
          "metadata": {
            "tags": []
          },
          "execution_count": 137
        }
      ]
    },
    {
      "cell_type": "code",
      "metadata": {
        "colab": {
          "base_uri": "https://localhost:8080/"
        },
        "id": "GjMXDpb_uF97",
        "outputId": "2ae0c925-41d6-4f84-d83f-31d7cbd2a3b9"
      },
      "source": [
        "len(y_pred)"
      ],
      "execution_count": 138,
      "outputs": [
        {
          "output_type": "execute_result",
          "data": {
            "text/plain": [
              "58"
            ]
          },
          "metadata": {
            "tags": []
          },
          "execution_count": 138
        }
      ]
    },
    {
      "cell_type": "code",
      "metadata": {
        "id": "Rpo3YUQEu-GM"
      },
      "source": [
        "y_pred = np.argmax(y_pred, axis = 1)"
      ],
      "execution_count": 139,
      "outputs": []
    },
    {
      "cell_type": "code",
      "metadata": {
        "colab": {
          "base_uri": "https://localhost:8080/"
        },
        "id": "VpcuHMQovfKX",
        "outputId": "a50d7a31-a8bd-4de8-8ab5-c8164bc2ef36"
      },
      "source": [
        "y_pred"
      ],
      "execution_count": 140,
      "outputs": [
        {
          "output_type": "execute_result",
          "data": {
            "text/plain": [
              "array([2, 2, 0, 1, 1, 2, 0, 2, 0, 2, 1, 0, 1, 0, 1, 1, 2, 1, 1, 2, 1, 2,\n",
              "       1, 1, 1, 2, 1, 1, 1, 2, 1, 1, 2, 2, 2, 2, 1, 0, 2, 2, 1, 1, 1, 1,\n",
              "       1, 1, 2, 1, 2, 1, 0, 1, 1, 2, 0, 1, 1, 1])"
            ]
          },
          "metadata": {
            "tags": []
          },
          "execution_count": 140
        }
      ]
    },
    {
      "cell_type": "markdown",
      "metadata": {
        "id": "MP2YldrJ2hn3"
      },
      "source": [
        "***Test on a new data***"
      ]
    },
    {
      "cell_type": "code",
      "metadata": {
        "id": "WzTyBofSvgs-"
      },
      "source": [
        "img = image.load_img('/content/a.jpg', target_size=(224,224))  "
      ],
      "execution_count": 238,
      "outputs": []
    },
    {
      "cell_type": "code",
      "metadata": {
        "colab": {
          "base_uri": "https://localhost:8080/",
          "height": 241
        },
        "id": "PmtqDmojyJaX",
        "outputId": "4baaec5d-b83a-4e1d-ed92-90214524aa8a"
      },
      "source": [
        "img"
      ],
      "execution_count": 239,
      "outputs": [
        {
          "output_type": "execute_result",
          "data": {
            "image/png": "[encoded data removed]",
            "text/plain": [
              "<PIL.Image.Image image mode=RGB size=224x224 at 0x7FDDF4846CD0>"
            ]
          },
          "metadata": {
            "tags": []
          },
          "execution_count": 239
        }
      ]
    },
    {
      "cell_type": "code",
      "metadata": {
        "colab": {
          "base_uri": "https://localhost:8080/"
        },
        "id": "8nN9xnA2yd7N",
        "outputId": "093fbd01-370b-422c-9459-0ee3e8fc397d"
      },
      "source": [
        "x = image.img_to_array(img)\n",
        "x"
      ],
      "execution_count": 240,
      "outputs": [
        {
          "output_type": "execute_result",
          "data": {
            "text/plain": [
              "array([[[ 64.,  64.,  72.],\n",
              "        [ 36.,  36.,  44.],\n",
              "        [ 39.,  39.,  47.],\n",
              "        ...,\n",
              "        [200., 206., 220.],\n",
              "        [200., 206., 220.],\n",
              "        [200., 206., 220.]],\n",
              "\n",
              "       [[121., 121., 129.],\n",
              "        [ 89.,  89.,  97.],\n",
              "        [ 74.,  74.,  82.],\n",
              "        ...,\n",
              "        [199., 205., 219.],\n",
              "        [199., 205., 219.],\n",
              "        [199., 205., 219.]],\n",
              "\n",
              "       [[121., 121., 129.],\n",
              "        [ 89.,  89.,  97.],\n",
              "        [ 74.,  74.,  82.],\n",
              "        ...,\n",
              "        [199., 205., 219.],\n",
              "        [199., 205., 219.],\n",
              "        [199., 205., 219.]],\n",
              "\n",
              "       ...,\n",
              "\n",
              "       [[167., 170., 175.],\n",
              "        [164., 167., 172.],\n",
              "        [163., 166., 171.],\n",
              "        ...,\n",
              "        [163., 166., 171.],\n",
              "        [163., 166., 171.],\n",
              "        [162., 165., 170.]],\n",
              "\n",
              "       [[167., 170., 175.],\n",
              "        [164., 167., 172.],\n",
              "        [163., 166., 171.],\n",
              "        ...,\n",
              "        [163., 166., 171.],\n",
              "        [163., 166., 171.],\n",
              "        [162., 165., 170.]],\n",
              "\n",
              "       [[170., 173., 178.],\n",
              "        [168., 171., 176.],\n",
              "        [166., 169., 174.],\n",
              "        ...,\n",
              "        [161., 164., 169.],\n",
              "        [160., 163., 168.],\n",
              "        [158., 161., 166.]]], dtype=float32)"
            ]
          },
          "metadata": {
            "tags": []
          },
          "execution_count": 240
        }
      ]
    },
    {
      "cell_type": "code",
      "metadata": {
        "colab": {
          "base_uri": "https://localhost:8080/"
        },
        "id": "6tNJ8yh8yrZr",
        "outputId": "cf9a324e-9ca3-42af-8127-fbfab2645e33"
      },
      "source": [
        "x.shape"
      ],
      "execution_count": 241,
      "outputs": [
        {
          "output_type": "execute_result",
          "data": {
            "text/plain": [
              "(224, 224, 3)"
            ]
          },
          "metadata": {
            "tags": []
          },
          "execution_count": 241
        }
      ]
    },
    {
      "cell_type": "code",
      "metadata": {
        "id": "zNp2a-YvyvzK"
      },
      "source": [
        "x = x /255"
      ],
      "execution_count": 242,
      "outputs": []
    },
    {
      "cell_type": "code",
      "metadata": {
        "colab": {
          "base_uri": "https://localhost:8080/"
        },
        "id": "9OplA7Yhy1_f",
        "outputId": "573b4ba3-75bb-4732-aae4-658b18918c43"
      },
      "source": [
        "x"
      ],
      "execution_count": 243,
      "outputs": [
        {
          "output_type": "execute_result",
          "data": {
            "text/plain": [
              "array([[[0.2509804 , 0.2509804 , 0.28235295],\n",
              "        [0.14117648, 0.14117648, 0.17254902],\n",
              "        [0.15294118, 0.15294118, 0.18431373],\n",
              "        ...,\n",
              "        [0.78431374, 0.80784315, 0.8627451 ],\n",
              "        [0.78431374, 0.80784315, 0.8627451 ],\n",
              "        [0.78431374, 0.80784315, 0.8627451 ]],\n",
              "\n",
              "       [[0.4745098 , 0.4745098 , 0.5058824 ],\n",
              "        [0.34901962, 0.34901962, 0.38039216],\n",
              "        [0.2901961 , 0.2901961 , 0.32156864],\n",
              "        ...,\n",
              "        [0.78039217, 0.8039216 , 0.85882354],\n",
              "        [0.78039217, 0.8039216 , 0.85882354],\n",
              "        [0.78039217, 0.8039216 , 0.85882354]],\n",
              "\n",
              "       [[0.4745098 , 0.4745098 , 0.5058824 ],\n",
              "        [0.34901962, 0.34901962, 0.38039216],\n",
              "        [0.2901961 , 0.2901961 , 0.32156864],\n",
              "        ...,\n",
              "        [0.78039217, 0.8039216 , 0.85882354],\n",
              "        [0.78039217, 0.8039216 , 0.85882354],\n",
              "        [0.78039217, 0.8039216 , 0.85882354]],\n",
              "\n",
              "       ...,\n",
              "\n",
              "       [[0.654902  , 0.6666667 , 0.6862745 ],\n",
              "        [0.6431373 , 0.654902  , 0.6745098 ],\n",
              "        [0.6392157 , 0.6509804 , 0.67058825],\n",
              "        ...,\n",
              "        [0.6392157 , 0.6509804 , 0.67058825],\n",
              "        [0.6392157 , 0.6509804 , 0.67058825],\n",
              "        [0.63529414, 0.64705884, 0.6666667 ]],\n",
              "\n",
              "       [[0.654902  , 0.6666667 , 0.6862745 ],\n",
              "        [0.6431373 , 0.654902  , 0.6745098 ],\n",
              "        [0.6392157 , 0.6509804 , 0.67058825],\n",
              "        ...,\n",
              "        [0.6392157 , 0.6509804 , 0.67058825],\n",
              "        [0.6392157 , 0.6509804 , 0.67058825],\n",
              "        [0.63529414, 0.64705884, 0.6666667 ]],\n",
              "\n",
              "       [[0.6666667 , 0.6784314 , 0.69803923],\n",
              "        [0.65882355, 0.67058825, 0.6901961 ],\n",
              "        [0.6509804 , 0.6627451 , 0.68235296],\n",
              "        ...,\n",
              "        [0.6313726 , 0.6431373 , 0.6627451 ],\n",
              "        [0.627451  , 0.6392157 , 0.65882355],\n",
              "        [0.61960787, 0.6313726 , 0.6509804 ]]], dtype=float32)"
            ]
          },
          "metadata": {
            "tags": []
          },
          "execution_count": 243
        }
      ]
    },
    {
      "cell_type": "code",
      "metadata": {
        "colab": {
          "base_uri": "https://localhost:8080/"
        },
        "id": "Kjj8fzdHy4z3",
        "outputId": "3072e1c3-8b18-4a40-c392-9e1b51d71ded"
      },
      "source": [
        "x = np.expand_dims(x, axis = 0)\n",
        "im_data = preprocess_input(x)\n",
        "im_data.shape"
      ],
      "execution_count": 244,
      "outputs": [
        {
          "output_type": "execute_result",
          "data": {
            "text/plain": [
              "(1, 224, 224, 3)"
            ]
          },
          "metadata": {
            "tags": []
          },
          "execution_count": 244
        }
      ]
    },
    {
      "cell_type": "code",
      "metadata": {
        "colab": {
          "base_uri": "https://localhost:8080/"
        },
        "id": "BSJmTzR5zOFg",
        "outputId": "56691f7b-6d79-4455-9cf5-b0b5fe6fe03c"
      },
      "source": [
        "p = np.argmax(model.predict(im_data),axis =1)  # predicted- 0th index, that means- Audi\n",
        "p                                              # actual - Audi"
      ],
      "execution_count": 245,
      "outputs": [
        {
          "output_type": "execute_result",
          "data": {
            "text/plain": [
              "array([0])"
            ]
          },
          "metadata": {
            "tags": []
          },
          "execution_count": 245
        }
      ]
    },
    {
      "cell_type": "code",
      "metadata": {
        "id": "-MgX--WPzguo"
      },
      "source": [
        ""
      ],
      "execution_count": 205,
      "outputs": []
    }
  ]
}